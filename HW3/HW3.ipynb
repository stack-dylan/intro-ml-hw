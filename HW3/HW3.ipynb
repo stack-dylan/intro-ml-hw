{
  "cells": [
    {
      "cell_type": "markdown",
      "metadata": {
        "id": "SpyqbHGw3vWF"
      },
      "source": [
        "# Homework 3: Due 11/20\n",
        "In this assignment, we will be building a Naïve Bayes classifier and a SVM model for the productivity satisfaction of [the given dataset](https://archive.ics.uci.edu/ml/datasets/Productivity+Prediction+of+Garment+Employees), the productivity of garment employees.\n",
        "\n",
        "## Background\n",
        "The Garment Industry is one of the key examples of the industrial globalization of this modern era. It is a highly labour-intensive industry with lots of manual processes. Satisfying the huge global demand for garment products is mostly dependent on the production and delivery performance of the employees in the garment manufacturing companies. So, it is highly desirable among the decision makers in the garments industry to track, analyse and predict the productivity performance of the working teams in their factories. \n",
        "\n",
        "## Dataset Attribute Information\n",
        "\n",
        "1. **date**: Date in MM-DD-YYYY\n",
        "2. **day**: Day of the Week\n",
        "3. **quarter** : A portion of the month. A month was divided into four quarters\n",
        "4. **department** : Associated department with the instance\n",
        "5. **team_no** : Associated team number with the instance\n",
        "6. **no_of_workers** : Number of workers in each team\n",
        "7. **no_of_style_change** : Number of changes in the style of a particular product\n",
        "8. **targeted_productivity** : Targeted productivity set by the Authority for each team for each day.\n",
        "9. **smv** : Standard Minute Value, it is the allocated time for a task\n",
        "10. **wip** : Work in progress. Includes the number of unfinished items for products\n",
        "11. **over_time** : Represents the amount of overtime by each team in minutes\n",
        "12. **incentive** : Represents the amount of financial incentive (in BDT) that enables or motivates a particular course of action.\n",
        "13. **idle_time** : The amount of time when the production was interrupted due to several reasons\n",
        "14. **idle_men** : The number of workers who were idle due to production interruption\n",
        "15. **actual_productivity** : The actual % of productivity that was delivered by the workers. It ranges from 0-1.\n",
        "\n",
        "### Libraries that can be used: numpy, scipy, pandas, scikit-learn, cvxpy, imbalanced-learn\n",
        "Any libraries used in the discussion materials are also allowed.\n",
        "\n",
        "#### Other Notes\n",
        "\n",
        " - Don't worry about not being able to achieve high accuracy, it is neither the goal nor the grading standard of this assignment. <br >\n",
        " - If not specified, you are not required to do hyperparameter tuning, but feel free to do so if you'd like.\n",
        "\n",
        "#### Trouble Shooting\n",
        "In case you have trouble installing and using imbalanced-learn(imblearn) <br >\n",
        "Run the below code cell, then go to the selection bar at top: Kernel > Restart. <br >\n",
        "Then try `import imblearn` to see if things work. "
      ]
    },
    {
      "cell_type": "code",
      "execution_count": 1,
      "metadata": {
        "colab": {
          "base_uri": "https://localhost:8080/"
        },
        "id": "7-p9ysr234a3",
        "outputId": "d64be3f2-ab2a-465d-a65e-7b84e28ea6c0"
      },
      "outputs": [
        {
          "name": "stdout",
          "output_type": "stream",
          "text": [
            "Drive already mounted at /content/drive; to attempt to forcibly remount, call drive.mount(\"/content/drive\", force_remount=True).\n"
          ]
        }
      ],
      "source": [
        "from google.colab import drive\n",
        "drive.mount('/content/drive')"
      ]
    },
    {
      "cell_type": "code",
      "execution_count": 2,
      "metadata": {
        "colab": {
          "base_uri": "https://localhost:8080/"
        },
        "id": "1aVMlaTU3vWH",
        "outputId": "ffd04a91-c945-411d-a8a8-59924b69080c"
      },
      "outputs": [
        {
          "name": "stdout",
          "output_type": "stream",
          "text": [
            "Looking in indexes: https://pypi.org/simple, https://us-python.pkg.dev/colab-wheels/public/simple/\n",
            "Requirement already satisfied: imbalanced-learn in /usr/local/lib/python3.7/dist-packages (0.8.1)\n",
            "Requirement already satisfied: delayed in /usr/local/lib/python3.7/dist-packages (0.11.0b1)\n",
            "Requirement already satisfied: joblib>=0.11 in /usr/local/lib/python3.7/dist-packages (from imbalanced-learn) (1.2.0)\n",
            "Requirement already satisfied: scikit-learn>=0.24 in /usr/local/lib/python3.7/dist-packages (from imbalanced-learn) (1.0.2)\n",
            "Requirement already satisfied: numpy>=1.13.3 in /usr/local/lib/python3.7/dist-packages (from imbalanced-learn) (1.21.6)\n",
            "Requirement already satisfied: scipy>=0.19.1 in /usr/local/lib/python3.7/dist-packages (from imbalanced-learn) (1.7.3)\n",
            "Requirement already satisfied: threadpoolctl>=2.0.0 in /usr/local/lib/python3.7/dist-packages (from scikit-learn>=0.24->imbalanced-learn) (3.1.0)\n",
            "Requirement already satisfied: redis in /usr/local/lib/python3.7/dist-packages (from delayed) (4.3.5)\n",
            "Requirement already satisfied: hiredis in /usr/local/lib/python3.7/dist-packages (from delayed) (2.0.0)\n",
            "Requirement already satisfied: async-timeout>=4.0.2 in /usr/local/lib/python3.7/dist-packages (from redis->delayed) (4.0.2)\n",
            "Requirement already satisfied: importlib-metadata>=1.0 in /usr/local/lib/python3.7/dist-packages (from redis->delayed) (4.13.0)\n",
            "Requirement already satisfied: packaging>=20.4 in /usr/local/lib/python3.7/dist-packages (from redis->delayed) (21.3)\n",
            "Requirement already satisfied: typing-extensions in /usr/local/lib/python3.7/dist-packages (from redis->delayed) (4.1.1)\n",
            "Requirement already satisfied: zipp>=0.5 in /usr/local/lib/python3.7/dist-packages (from importlib-metadata>=1.0->redis->delayed) (3.10.0)\n",
            "Requirement already satisfied: pyparsing!=3.0.5,>=2.0.2 in /usr/local/lib/python3.7/dist-packages (from packaging>=20.4->redis->delayed) (3.0.9)\n"
          ]
        }
      ],
      "source": [
        "# Install a pip package in the current Jupyter kernel\n",
        "import sys\n",
        "!{sys.executable} -m pip install imbalanced-learn delayed"
      ]
    },
    {
      "cell_type": "markdown",
      "metadata": {
        "id": "8zyNLheU3vWI"
      },
      "source": [
        "# Exercises\n",
        "\n",
        "## Exercise 1 - General Data Preprocessing (20 points)\n",
        "\n",
        "Our dataset needs cleaning before building any models. Some of the cleaning tasks are common in general, but depends on what kind of models we are building, sometimes we have to do additional processing. These additional tasks will be mentioned in each of the remaining two exercises later.\n",
        "\n",
        "Note that **we will be using this processed data from exercise 1 in each of the remaining two exercises**.\n",
        "\n",
        "For convenience, here are the attributes that we would treat them as **categorical attributes**: `day`, `quarter`, `department`, and `team`. \n",
        "\n",
        " - Drop the column `date`.\n",
        " - For each of the categorical attributes, **print out** all the unique elements.\n",
        " - For each of the categorical attributes, remap the duplicated items, if you find there are typos or spaces among the duplicated items.\n",
        "     - For example, \"a\" and \"a \" should be the same, so we need to update \"a \" to be \"a\".\n",
        "     - Another example, \"apple\" and \"appel\" should be the same, so you should update \"appel\" to be \"apple\".\n",
        "     \n",
        "\n",
        " - Create another column named `satisfied` that records the productivity performance. The behavior defined as follows. **This is the dependent variable we'd like to classify in this assignment.**\n",
        "     - Return True or 1 if `actual_productivity` is equal to or greater than `targeted_productivity`. Otherwise, return False or 0, which means the team fails to meet the expected performance.\n",
        " - Drop the columns `actual_productivity` and `targeted_productivity`.\n",
        "\n",
        "\n",
        " - Find and **print out** which columns/attributes that have empty vaules, e.g., NA, NaN, null, None.\n",
        " - Fill the empty values with 0.\n"
      ]
    },
    {
      "cell_type": "code",
      "execution_count": 3,
      "metadata": {
        "id": "zT3Rq5iW3vWJ"
      },
      "outputs": [],
      "source": [
        "# If put the data(.csv) under the same folder, you could use\n",
        "import pandas as pd\n",
        "df = pd.read_csv('./garments_worker_productivity.csv')"
      ]
    },
    {
      "cell_type": "code",
      "execution_count": 4,
      "metadata": {
        "colab": {
          "base_uri": "https://localhost:8080/",
          "height": 270
        },
        "id": "oElzgIXz4wiu",
        "outputId": "8c94b0c3-16d8-4f06-c86f-4276267df96f"
      },
      "outputs": [
        {
          "data": {
            "text/html": [
              "\n",
              "  <div id=\"df-f2160c82-8c35-4d6d-9542-e6404607aa3b\">\n",
              "    <div class=\"colab-df-container\">\n",
              "      <div>\n",
              "<style scoped>\n",
              "    .dataframe tbody tr th:only-of-type {\n",
              "        vertical-align: middle;\n",
              "    }\n",
              "\n",
              "    .dataframe tbody tr th {\n",
              "        vertical-align: top;\n",
              "    }\n",
              "\n",
              "    .dataframe thead th {\n",
              "        text-align: right;\n",
              "    }\n",
              "</style>\n",
              "<table border=\"1\" class=\"dataframe\">\n",
              "  <thead>\n",
              "    <tr style=\"text-align: right;\">\n",
              "      <th></th>\n",
              "      <th>quarter</th>\n",
              "      <th>department</th>\n",
              "      <th>day</th>\n",
              "      <th>team</th>\n",
              "      <th>targeted_productivity</th>\n",
              "      <th>smv</th>\n",
              "      <th>wip</th>\n",
              "      <th>over_time</th>\n",
              "      <th>incentive</th>\n",
              "      <th>idle_time</th>\n",
              "      <th>idle_men</th>\n",
              "      <th>no_of_style_change</th>\n",
              "      <th>no_of_workers</th>\n",
              "      <th>actual_productivity</th>\n",
              "    </tr>\n",
              "  </thead>\n",
              "  <tbody>\n",
              "    <tr>\n",
              "      <th>0</th>\n",
              "      <td>Quarter1</td>\n",
              "      <td>sweing</td>\n",
              "      <td>Thursday</td>\n",
              "      <td>8</td>\n",
              "      <td>0.80</td>\n",
              "      <td>26.16</td>\n",
              "      <td>1108.0</td>\n",
              "      <td>7080</td>\n",
              "      <td>98</td>\n",
              "      <td>0.0</td>\n",
              "      <td>0</td>\n",
              "      <td>0</td>\n",
              "      <td>59.0</td>\n",
              "      <td>0.940725</td>\n",
              "    </tr>\n",
              "    <tr>\n",
              "      <th>1</th>\n",
              "      <td>Quarter1</td>\n",
              "      <td>finishing</td>\n",
              "      <td>Thursday</td>\n",
              "      <td>1</td>\n",
              "      <td>0.75</td>\n",
              "      <td>3.94</td>\n",
              "      <td>NaN</td>\n",
              "      <td>960</td>\n",
              "      <td>0</td>\n",
              "      <td>0.0</td>\n",
              "      <td>0</td>\n",
              "      <td>0</td>\n",
              "      <td>8.0</td>\n",
              "      <td>0.886500</td>\n",
              "    </tr>\n",
              "    <tr>\n",
              "      <th>2</th>\n",
              "      <td>Quarter1</td>\n",
              "      <td>sweing</td>\n",
              "      <td>Thursday</td>\n",
              "      <td>11</td>\n",
              "      <td>0.80</td>\n",
              "      <td>11.41</td>\n",
              "      <td>968.0</td>\n",
              "      <td>3660</td>\n",
              "      <td>50</td>\n",
              "      <td>0.0</td>\n",
              "      <td>0</td>\n",
              "      <td>0</td>\n",
              "      <td>30.5</td>\n",
              "      <td>0.800570</td>\n",
              "    </tr>\n",
              "    <tr>\n",
              "      <th>3</th>\n",
              "      <td>Quarter1</td>\n",
              "      <td>sweing</td>\n",
              "      <td>Thursday</td>\n",
              "      <td>12</td>\n",
              "      <td>0.80</td>\n",
              "      <td>11.41</td>\n",
              "      <td>968.0</td>\n",
              "      <td>3660</td>\n",
              "      <td>50</td>\n",
              "      <td>0.0</td>\n",
              "      <td>0</td>\n",
              "      <td>0</td>\n",
              "      <td>30.5</td>\n",
              "      <td>0.800570</td>\n",
              "    </tr>\n",
              "    <tr>\n",
              "      <th>4</th>\n",
              "      <td>Quarter1</td>\n",
              "      <td>sweing</td>\n",
              "      <td>Thursday</td>\n",
              "      <td>6</td>\n",
              "      <td>0.80</td>\n",
              "      <td>25.90</td>\n",
              "      <td>1170.0</td>\n",
              "      <td>1920</td>\n",
              "      <td>50</td>\n",
              "      <td>0.0</td>\n",
              "      <td>0</td>\n",
              "      <td>0</td>\n",
              "      <td>56.0</td>\n",
              "      <td>0.800382</td>\n",
              "    </tr>\n",
              "  </tbody>\n",
              "</table>\n",
              "</div>\n",
              "      <button class=\"colab-df-convert\" onclick=\"convertToInteractive('df-f2160c82-8c35-4d6d-9542-e6404607aa3b')\"\n",
              "              title=\"Convert this dataframe to an interactive table.\"\n",
              "              style=\"display:none;\">\n",
              "        \n",
              "  <svg xmlns=\"http://www.w3.org/2000/svg\" height=\"24px\"viewBox=\"0 0 24 24\"\n",
              "       width=\"24px\">\n",
              "    <path d=\"M0 0h24v24H0V0z\" fill=\"none\"/>\n",
              "    <path d=\"M18.56 5.44l.94 2.06.94-2.06 2.06-.94-2.06-.94-.94-2.06-.94 2.06-2.06.94zm-11 1L8.5 8.5l.94-2.06 2.06-.94-2.06-.94L8.5 2.5l-.94 2.06-2.06.94zm10 10l.94 2.06.94-2.06 2.06-.94-2.06-.94-.94-2.06-.94 2.06-2.06.94z\"/><path d=\"M17.41 7.96l-1.37-1.37c-.4-.4-.92-.59-1.43-.59-.52 0-1.04.2-1.43.59L10.3 9.45l-7.72 7.72c-.78.78-.78 2.05 0 2.83L4 21.41c.39.39.9.59 1.41.59.51 0 1.02-.2 1.41-.59l7.78-7.78 2.81-2.81c.8-.78.8-2.07 0-2.86zM5.41 20L4 18.59l7.72-7.72 1.47 1.35L5.41 20z\"/>\n",
              "  </svg>\n",
              "      </button>\n",
              "      \n",
              "  <style>\n",
              "    .colab-df-container {\n",
              "      display:flex;\n",
              "      flex-wrap:wrap;\n",
              "      gap: 12px;\n",
              "    }\n",
              "\n",
              "    .colab-df-convert {\n",
              "      background-color: #E8F0FE;\n",
              "      border: none;\n",
              "      border-radius: 50%;\n",
              "      cursor: pointer;\n",
              "      display: none;\n",
              "      fill: #1967D2;\n",
              "      height: 32px;\n",
              "      padding: 0 0 0 0;\n",
              "      width: 32px;\n",
              "    }\n",
              "\n",
              "    .colab-df-convert:hover {\n",
              "      background-color: #E2EBFA;\n",
              "      box-shadow: 0px 1px 2px rgba(60, 64, 67, 0.3), 0px 1px 3px 1px rgba(60, 64, 67, 0.15);\n",
              "      fill: #174EA6;\n",
              "    }\n",
              "\n",
              "    [theme=dark] .colab-df-convert {\n",
              "      background-color: #3B4455;\n",
              "      fill: #D2E3FC;\n",
              "    }\n",
              "\n",
              "    [theme=dark] .colab-df-convert:hover {\n",
              "      background-color: #434B5C;\n",
              "      box-shadow: 0px 1px 3px 1px rgba(0, 0, 0, 0.15);\n",
              "      filter: drop-shadow(0px 1px 2px rgba(0, 0, 0, 0.3));\n",
              "      fill: #FFFFFF;\n",
              "    }\n",
              "  </style>\n",
              "\n",
              "      <script>\n",
              "        const buttonEl =\n",
              "          document.querySelector('#df-f2160c82-8c35-4d6d-9542-e6404607aa3b button.colab-df-convert');\n",
              "        buttonEl.style.display =\n",
              "          google.colab.kernel.accessAllowed ? 'block' : 'none';\n",
              "\n",
              "        async function convertToInteractive(key) {\n",
              "          const element = document.querySelector('#df-f2160c82-8c35-4d6d-9542-e6404607aa3b');\n",
              "          const dataTable =\n",
              "            await google.colab.kernel.invokeFunction('convertToInteractive',\n",
              "                                                     [key], {});\n",
              "          if (!dataTable) return;\n",
              "\n",
              "          const docLinkHtml = 'Like what you see? Visit the ' +\n",
              "            '<a target=\"_blank\" href=https://colab.research.google.com/notebooks/data_table.ipynb>data table notebook</a>'\n",
              "            + ' to learn more about interactive tables.';\n",
              "          element.innerHTML = '';\n",
              "          dataTable['output_type'] = 'display_data';\n",
              "          await google.colab.output.renderOutput(dataTable, element);\n",
              "          const docLink = document.createElement('div');\n",
              "          docLink.innerHTML = docLinkHtml;\n",
              "          element.appendChild(docLink);\n",
              "        }\n",
              "      </script>\n",
              "    </div>\n",
              "  </div>\n",
              "  "
            ],
            "text/plain": [
              "    quarter  department       day  team  targeted_productivity    smv     wip  \\\n",
              "0  Quarter1      sweing  Thursday     8                   0.80  26.16  1108.0   \n",
              "1  Quarter1  finishing   Thursday     1                   0.75   3.94     NaN   \n",
              "2  Quarter1      sweing  Thursday    11                   0.80  11.41   968.0   \n",
              "3  Quarter1      sweing  Thursday    12                   0.80  11.41   968.0   \n",
              "4  Quarter1      sweing  Thursday     6                   0.80  25.90  1170.0   \n",
              "\n",
              "   over_time  incentive  idle_time  idle_men  no_of_style_change  \\\n",
              "0       7080         98        0.0         0                   0   \n",
              "1        960          0        0.0         0                   0   \n",
              "2       3660         50        0.0         0                   0   \n",
              "3       3660         50        0.0         0                   0   \n",
              "4       1920         50        0.0         0                   0   \n",
              "\n",
              "   no_of_workers  actual_productivity  \n",
              "0           59.0             0.940725  \n",
              "1            8.0             0.886500  \n",
              "2           30.5             0.800570  \n",
              "3           30.5             0.800570  \n",
              "4           56.0             0.800382  "
            ]
          },
          "execution_count": 4,
          "metadata": {},
          "output_type": "execute_result"
        }
      ],
      "source": [
        "df = df.drop(columns=['date'])\n",
        "df.head()"
      ]
    },
    {
      "cell_type": "code",
      "execution_count": 5,
      "metadata": {
        "colab": {
          "base_uri": "https://localhost:8080/"
        },
        "id": "uHHpBvWQ50LF",
        "outputId": "a346fe79-14bc-40ae-a71f-046ce46b35ed"
      },
      "outputs": [
        {
          "name": "stdout",
          "output_type": "stream",
          "text": [
            "['Thursday' 'Saturday' 'Sunday' 'Monday' 'Tuesday' 'Wednesday']\n",
            "['Quarter1' 'Quarter2' 'Quarter3' 'Quarter4' 'Quarter5']\n",
            "['sweing' 'finishing ' 'finishing']\n",
            "[ 8  1 11 12  6  7  2  3  9 10  5  4]\n"
          ]
        }
      ],
      "source": [
        "cats = ['day', 'quarter', 'department', 'team']\n",
        "for var in cats:\n",
        "  print(df[var].unique())"
      ]
    },
    {
      "cell_type": "markdown",
      "metadata": {
        "id": "odWG6AtM6cMe"
      },
      "source": [
        "There are duplicates in the department category, we will clean these up."
      ]
    },
    {
      "cell_type": "code",
      "execution_count": 6,
      "metadata": {
        "id": "OMylhnCQ6926"
      },
      "outputs": [],
      "source": [
        "df['department'] = df['department'].map({'sweing': 'sewing', 'finishing ': 'finishing', 'finishing':'finishing'})"
      ]
    },
    {
      "cell_type": "code",
      "execution_count": 7,
      "metadata": {
        "colab": {
          "base_uri": "https://localhost:8080/"
        },
        "id": "QTA9u9uK7hs5",
        "outputId": "05bb146c-8f38-490e-e4d4-93f8656271aa"
      },
      "outputs": [
        {
          "data": {
            "text/plain": [
              "array(['sewing', 'finishing'], dtype=object)"
            ]
          },
          "execution_count": 7,
          "metadata": {},
          "output_type": "execute_result"
        }
      ],
      "source": [
        "df.department.unique()"
      ]
    },
    {
      "cell_type": "markdown",
      "metadata": {
        "id": "JAR-JIX38KTz"
      },
      "source": [
        "There is now only 'sewing' and 'finishing', so it looks like our processing worked."
      ]
    },
    {
      "cell_type": "code",
      "execution_count": 8,
      "metadata": {
        "colab": {
          "base_uri": "https://localhost:8080/"
        },
        "id": "qMsm92lH7mq3",
        "outputId": "362c5912-587d-4367-990c-11a2b95df506"
      },
      "outputs": [
        {
          "data": {
            "text/plain": [
              "[numpy.int64,\n",
              " numpy.int64,\n",
              " numpy.int64,\n",
              " numpy.int64,\n",
              " numpy.int64,\n",
              " numpy.int64,\n",
              " numpy.int64,\n",
              " numpy.int64,\n",
              " numpy.int64,\n",
              " numpy.int64,\n",
              " numpy.int64,\n",
              " numpy.int64]"
            ]
          },
          "execution_count": 8,
          "metadata": {},
          "output_type": "execute_result"
        }
      ],
      "source": [
        "# checking that team is int rather than string, they are so we will move on\n",
        "[type(x) for x in df.team.unique()]"
      ]
    },
    {
      "cell_type": "markdown",
      "metadata": {
        "id": "xvYW7nki8PrE"
      },
      "source": [
        "Now we will create the 'satisfied' column."
      ]
    },
    {
      "cell_type": "code",
      "execution_count": 9,
      "metadata": {
        "id": "ZTYFW-3O8SL1"
      },
      "outputs": [],
      "source": [
        "satisfied = lambda x: int( x['actual_productivity'] >= x['targeted_productivity'] )\n",
        "df['satisfied'] = df.apply(satisfied, axis=1)"
      ]
    },
    {
      "cell_type": "code",
      "execution_count": 10,
      "metadata": {
        "id": "J_cAOmYM9FuY"
      },
      "outputs": [],
      "source": [
        "df = df.drop(columns=['actual_productivity', 'targeted_productivity'])"
      ]
    },
    {
      "cell_type": "markdown",
      "metadata": {
        "id": "21eMN6G4-T1T"
      },
      "source": [
        "Now, we will replace all null or NaN values with 0."
      ]
    },
    {
      "cell_type": "code",
      "execution_count": 11,
      "metadata": {
        "colab": {
          "base_uri": "https://localhost:8080/"
        },
        "id": "khYN-jW1-WZ_",
        "outputId": "d8904fba-84f3-4035-e7f3-8680eec9e41e"
      },
      "outputs": [
        {
          "data": {
            "text/plain": [
              "quarter               False\n",
              "department            False\n",
              "day                   False\n",
              "team                  False\n",
              "smv                   False\n",
              "wip                    True\n",
              "over_time             False\n",
              "incentive             False\n",
              "idle_time             False\n",
              "idle_men              False\n",
              "no_of_style_change    False\n",
              "no_of_workers         False\n",
              "satisfied             False\n",
              "dtype: bool"
            ]
          },
          "execution_count": 11,
          "metadata": {},
          "output_type": "execute_result"
        }
      ],
      "source": [
        "df.isna().any()"
      ]
    },
    {
      "cell_type": "markdown",
      "metadata": {
        "id": "UkApp4zF-hSz"
      },
      "source": [
        "Only the 'wip' column has missing values, so we only need to target that column."
      ]
    },
    {
      "cell_type": "code",
      "execution_count": 12,
      "metadata": {
        "id": "pePFGudh-3_l"
      },
      "outputs": [],
      "source": [
        "import numpy as np # could also use the smaller math library, but we will be using np anyways\n",
        "df['wip'] = df['wip'].map(lambda x: 0 if np.isnan(x) else x)"
      ]
    },
    {
      "cell_type": "code",
      "execution_count": 13,
      "metadata": {
        "colab": {
          "base_uri": "https://localhost:8080/"
        },
        "id": "zBsO6xDs_qM2",
        "outputId": "ab01760c-2cc8-447a-deb6-68a2182be23f"
      },
      "outputs": [
        {
          "data": {
            "text/plain": [
              "quarter               False\n",
              "department            False\n",
              "day                   False\n",
              "team                  False\n",
              "smv                   False\n",
              "wip                   False\n",
              "over_time             False\n",
              "incentive             False\n",
              "idle_time             False\n",
              "idle_men              False\n",
              "no_of_style_change    False\n",
              "no_of_workers         False\n",
              "satisfied             False\n",
              "dtype: bool"
            ]
          },
          "execution_count": 13,
          "metadata": {},
          "output_type": "execute_result"
        }
      ],
      "source": [
        "df.isna().any()"
      ]
    },
    {
      "cell_type": "markdown",
      "metadata": {
        "id": "oLUB5OMu_xhd"
      },
      "source": [
        "Now that we have resolved all null values, we have completed our general data preprocessing."
      ]
    },
    {
      "cell_type": "markdown",
      "metadata": {
        "id": "iimasfqr3vWJ"
      },
      "source": [
        "## Exercise 2 - Naïve Bayes Classifier (40 points in total)\n",
        "\n",
        "### Exercise 2.1 - Additional Data Preprocessing (10 points)\n",
        "\n",
        "To build a Naïve Bayes Classifier, we need to further encode our categorical variables.\n",
        "\n",
        " - For each of the **categorical attribtues**, encode the set of categories to be **0 ~ (n_classes - 1)**.\n",
        "     - For example, \\[\"paris\", \"paris\", \"tokyo\", \"amsterdam\"\\] should be encoded as \\[1, 1, 2, 0\\].\n",
        "     - Note that the order does not really matter, i.e., \\[0, 0, 1, 2\\] also works. But you have to start with 0 in your encodings.\n",
        "     - You can find information about this encoding in the discussion materials.\n",
        "\n",
        "\n",
        " - Split the data into training and testing set with the ratio of 80:20."
      ]
    },
    {
      "cell_type": "code",
      "execution_count": 14,
      "metadata": {
        "id": "GbqMn8JT3vWJ"
      },
      "outputs": [],
      "source": [
        "# Remember to continue the task with your processed data from Exercise 1\n",
        "# print(f'categorical variables: {cats}\\n')\n",
        "\n",
        "# define encoding\n",
        "gen_encode = lambda unique: dict( zip( sorted(unique), range(len(unique)) ) )\n",
        "\n",
        "encoding = {} # save encoding for later reference\n",
        "# encoding = {'day': {'Sunday': 0, 'Monday': 1, 'Tuesday': 2, 'Wednesday': 3, \n",
        "                    # 'Thursday': 4, 'Friday': 5, 'Saturday': 6}} \n",
        "\n",
        "df_encode = df.copy()\n",
        "\n",
        "def encode(category, value):\n",
        "  return encoding[category][value]\n",
        "\n",
        "def decode(category, code):\n",
        "  return [key for key in encoding[category] if encoding[category][key] == code][0]\n",
        "\n",
        "for c in cats:\n",
        "  encoding[c] = gen_encode(df[c].unique()) # save to encoding\n",
        "  df_encode[c] = df.apply( lambda row: encode(c, row[c]), axis=1) # perform encoding"
      ]
    },
    {
      "cell_type": "code",
      "execution_count": 15,
      "metadata": {
        "id": "TaSPaNwSGTMM"
      },
      "outputs": [],
      "source": [
        "from sklearn.model_selection import train_test_split\n",
        "X = df_encode.drop(columns=['satisfied'])\n",
        "y = df_encode['satisfied'].to_numpy().reshape(-1,1)\n",
        "\n",
        "X_train, X_test, y_train, y_test = train_test_split(X, y, test_size=.20, random_state=42)"
      ]
    },
    {
      "cell_type": "markdown",
      "metadata": {
        "id": "oEVrdHSm3vWK"
      },
      "source": [
        "### Exercise 2.2 - Naïve Bayes Classifier for Categorical Attributes (15 points)\n",
        "\n",
        "Use the categorical attributes **only**, please build a Categorical Naïve Bayes classifier that predicts the column `satisfied`. <br >\n",
        "Report the **testing result** using `classification_report`."
      ]
    },
    {
      "cell_type": "code",
      "execution_count": 16,
      "metadata": {
        "colab": {
          "base_uri": "https://localhost:8080/"
        },
        "id": "kJYsYTOg3vWK",
        "outputId": "70216c28-b350-40b8-c0e8-b25002bcb08e"
      },
      "outputs": [
        {
          "name": "stdout",
          "output_type": "stream",
          "text": [
            "              precision    recall  f1-score   support\n",
            "\n",
            "           0       0.17      0.02      0.03        63\n",
            "           1       0.74      0.97      0.84       177\n",
            "\n",
            "    accuracy                           0.72       240\n",
            "   macro avg       0.45      0.49      0.43       240\n",
            "weighted avg       0.59      0.72      0.62       240\n",
            "\n"
          ]
        }
      ],
      "source": [
        "# Remember to do this task with your processed data from Exercise 2.1\n",
        "from sklearn.naive_bayes import GaussianNB\n",
        "from sklearn.metrics import classification_report\n",
        "\n",
        "X_train_cat, X_test_cat = X_train[cats], X_test[cats]\n",
        "\n",
        "gnb = GaussianNB()\n",
        "y_pred = gnb.fit(X_train_cat, y_train.ravel()).predict(X_test_cat)\n",
        "print(classification_report(y_test, y_pred))\n"
      ]
    },
    {
      "cell_type": "markdown",
      "metadata": {
        "id": "DMbt7IT_3vWL"
      },
      "source": [
        "### Exercise 2.3 - Naïve Bayes Classifier for Numerical Attributes (15 points)\n",
        "\n",
        "Use the numerical attributes **only**, please build a Gaussian Naïve Bayes classifier that predicts the column `satisfied`. <br >\n",
        "Report the **testing result** using `classification_report`.\n",
        "\n",
        "**Remember to scale your data. The scaling method is up to you.**"
      ]
    },
    {
      "cell_type": "code",
      "execution_count": 17,
      "metadata": {
        "colab": {
          "base_uri": "https://localhost:8080/"
        },
        "id": "amdIangn3vWM",
        "outputId": "f66a1411-a940-42f3-a75a-5ddbf434b024"
      },
      "outputs": [
        {
          "name": "stdout",
          "output_type": "stream",
          "text": [
            "              precision    recall  f1-score   support\n",
            "\n",
            "           0       0.37      0.62      0.46        63\n",
            "           1       0.82      0.63      0.71       177\n",
            "\n",
            "    accuracy                           0.62       240\n",
            "   macro avg       0.60      0.62      0.59       240\n",
            "weighted avg       0.70      0.62      0.65       240\n",
            "\n"
          ]
        }
      ],
      "source": [
        "# Remember to do this task with your processed data from Exercise 2.1\n",
        "X_train_num, X_test_num = X_train.drop(columns=cats), X_test.drop(columns=cats)\n",
        "\n",
        "from sklearn import preprocessing\n",
        "scaler = preprocessing.MinMaxScaler()\n",
        "scaler.fit(X_train_num)\n",
        "\n",
        "\n",
        "Z_train = pd.DataFrame(scaler.transform(X_train_num), columns=X_train_num.columns, index=X_train_num.index)\n",
        "Z_test = pd.DataFrame(scaler.transform(X_test_num), columns=X_test_num.columns, index=X_test_num.index)\n",
        "\n",
        "gnb = GaussianNB()\n",
        "y_pred = gnb.fit(Z_train, y_train.ravel()).predict(Z_test)\n",
        "\n",
        "print( classification_report(y_test, y_pred) )"
      ]
    },
    {
      "cell_type": "markdown",
      "metadata": {
        "id": "fqnlg9is3vWM"
      },
      "source": [
        "## Exercies 3 - SVM Classifier (40 points in total)\n",
        "\n",
        "### Exercise 3.1 - Additional Data Preprocessing (10 points)\n",
        "\n",
        "To build a SVM Classifier, we need a different encoding for our categorical variables.\n",
        "\n",
        " - For each of the **categorical attribtues**, encode them with **one-hot encoding**.\n",
        "     - You can find information about this encoding in the discussion materials.\n",
        "\n",
        "\n",
        " - Split the data into training and testing set with the ratio of 80:20.\n"
      ]
    },
    {
      "cell_type": "code",
      "execution_count": 19,
      "metadata": {
        "id": "CJRfrrgB3vWM"
      },
      "outputs": [],
      "source": [
        "# Remember to continue the task with your processed data from Exercise 1\n",
        "\n",
        "enc = preprocessing.OneHotEncoder()\n",
        "enc.fit(X_train_cat)\n",
        "X_train_cat_onehot = pd.DataFrame(enc.transform(X_train_cat).toarray(), index=X_train.index)\n",
        "X_train_onehot = pd.concat([X_train_cat_onehot, Z_train], axis=1)\n",
        "\n",
        "enc = preprocessing.OneHotEncoder()\n",
        "enc.fit(X_test_cat)\n",
        "X_test_cat_onehot = pd.DataFrame(enc.transform(X_test_cat).toarray(), index=X_test.index)\n",
        "X_test_onehot = pd.concat([X_test_cat_onehot, Z_test], axis=1)"
      ]
    },
    {
      "cell_type": "code",
      "execution_count": 20,
      "metadata": {
        "colab": {
          "base_uri": "https://localhost:8080/"
        },
        "id": "Q9BcBrH60Yvu",
        "outputId": "7462fc07-cb87-45aa-b038-da5bc129d7fd"
      },
      "outputs": [
        {
          "name": "stdout",
          "output_type": "stream",
          "text": [
            "              precision    recall  f1-score   support\n",
            "\n",
            "           0       1.00      0.02      0.03        63\n",
            "           1       0.74      1.00      0.85       177\n",
            "\n",
            "    accuracy                           0.74       240\n",
            "   macro avg       0.87      0.51      0.44       240\n",
            "weighted avg       0.81      0.74      0.64       240\n",
            "\n"
          ]
        },
        {
          "name": "stderr",
          "output_type": "stream",
          "text": [
            "/usr/local/lib/python3.7/dist-packages/sklearn/utils/validation.py:1692: FutureWarning: Feature names only support names that are all strings. Got feature names with dtypes: ['int', 'str']. An error will be raised in 1.2.\n",
            "  FutureWarning,\n",
            "/usr/local/lib/python3.7/dist-packages/sklearn/utils/validation.py:1692: FutureWarning: Feature names only support names that are all strings. Got feature names with dtypes: ['int', 'str']. An error will be raised in 1.2.\n",
            "  FutureWarning,\n"
          ]
        }
      ],
      "source": [
        "from sklearn.svm import SVC\n",
        "\n",
        "svm = SVC(kernel='linear')\n",
        "svm.fit(X_train_onehot, y_train.ravel())\n",
        "y_pred = svm.predict(X_test_onehot)\n",
        "print(classification_report(y_test.ravel(), y_pred.reshape(-1,1)))"
      ]
    },
    {
      "cell_type": "markdown",
      "metadata": {
        "id": "V6ug830Z3vWN"
      },
      "source": [
        "### Exercise 3.2 - SVM with Different Kernels (20 points)\n",
        "\n",
        "Using all the attributes we have, please build a SVM that predicts the column `satisfied`. <br >\n",
        "Specifically, please \n",
        " - Build one SVM with **linear kernel**.\n",
        " - Build another SVM but with **rbf kernel**.\n",
        " - Report the **testing results** of **both models** using `classification report`.\n",
        "\n",
        "The kernel is the only setting requirement. <br >\n",
        "Other hyperparameter tuning is not required. But make sure they are the same in these two SVMs if you'd like to tune the model. In other words, the only difference between the two SVMs should be the kernel setting.\n",
        "\n",
        "**Remember to scale your data. The scaling method is up to you.**"
      ]
    },
    {
      "cell_type": "code",
      "execution_count": 21,
      "metadata": {
        "colab": {
          "base_uri": "https://localhost:8080/"
        },
        "id": "Fqgr_lYb3vWN",
        "outputId": "6e81385b-66ac-44c5-973d-c6f3a27e4ed7"
      },
      "outputs": [
        {
          "name": "stdout",
          "output_type": "stream",
          "text": [
            "              precision    recall  f1-score   support\n",
            "\n",
            "           0       1.00      0.02      0.03        63\n",
            "           1       0.74      1.00      0.85       177\n",
            "\n",
            "    accuracy                           0.74       240\n",
            "   macro avg       0.87      0.51      0.44       240\n",
            "weighted avg       0.81      0.74      0.64       240\n",
            "\n"
          ]
        },
        {
          "name": "stderr",
          "output_type": "stream",
          "text": [
            "/usr/local/lib/python3.7/dist-packages/sklearn/utils/validation.py:1692: FutureWarning: Feature names only support names that are all strings. Got feature names with dtypes: ['int', 'str']. An error will be raised in 1.2.\n",
            "  FutureWarning,\n",
            "/usr/local/lib/python3.7/dist-packages/sklearn/utils/validation.py:1692: FutureWarning: Feature names only support names that are all strings. Got feature names with dtypes: ['int', 'str']. An error will be raised in 1.2.\n",
            "  FutureWarning,\n"
          ]
        }
      ],
      "source": [
        "# Remember to do this task with your processed data from Exercise 3.1\n",
        "from sklearn.svm import SVC\n",
        "\n",
        "svm = SVC(kernel='linear')\n",
        "svm.fit(X_train_onehot, y_train.ravel())\n",
        "y_pred = svm.predict(X_test_onehot)\n",
        "print(classification_report(y_test.ravel(), y_pred.reshape(-1,1)))"
      ]
    },
    {
      "cell_type": "code",
      "execution_count": 22,
      "metadata": {
        "colab": {
          "base_uri": "https://localhost:8080/"
        },
        "id": "kYdGxw2Q5Rz9",
        "outputId": "f2799607-587f-474b-d0de-effadbf6496f"
      },
      "outputs": [
        {
          "name": "stdout",
          "output_type": "stream",
          "text": [
            "              precision    recall  f1-score   support\n",
            "\n",
            "           0       0.48      0.25      0.33        63\n",
            "           1       0.77      0.90      0.83       177\n",
            "\n",
            "    accuracy                           0.73       240\n",
            "   macro avg       0.63      0.58      0.58       240\n",
            "weighted avg       0.70      0.73      0.70       240\n",
            "\n"
          ]
        },
        {
          "name": "stderr",
          "output_type": "stream",
          "text": [
            "/usr/local/lib/python3.7/dist-packages/sklearn/utils/validation.py:1692: FutureWarning: Feature names only support names that are all strings. Got feature names with dtypes: ['int', 'str']. An error will be raised in 1.2.\n",
            "  FutureWarning,\n",
            "/usr/local/lib/python3.7/dist-packages/sklearn/utils/validation.py:1692: FutureWarning: Feature names only support names that are all strings. Got feature names with dtypes: ['int', 'str']. An error will be raised in 1.2.\n",
            "  FutureWarning,\n"
          ]
        }
      ],
      "source": [
        "from sklearn.svm import SVC\n",
        "\n",
        "svm = SVC(kernel='rbf')\n",
        "svm.fit(X_train_onehot, y_train.ravel())\n",
        "y_pred = svm.predict(X_test_onehot)\n",
        "print(classification_report(y_test.ravel(), y_pred.reshape(-1,1)))"
      ]
    },
    {
      "cell_type": "markdown",
      "metadata": {
        "id": "adgf8OpW3vWN"
      },
      "source": [
        "### Exercise 3.3 - SVM with Over-sampling (10 points)\n",
        " - For the column `satisfied` in our **training set**, please **print out** the frequency of each class. \n",
        " - Oversample the **training data**. \n",
        " - For the column `satisfied` in the oversampled data, **print out** the frequency of each class  again.\n",
        " - Re-build the 2 SVMs with the same setting you have in Exercise 3.2, but **use oversampled training data** instead.\n",
        "     - Do not forget to scale the data first. As always, the scaling method is up to you.\n",
        " - Report the **testing result** with `classification_report`.\n",
        "\n",
        "You can use ANY methods listed on [here](https://imbalanced-learn.org/stable/references/over_sampling.html#) such as RandomOverSampler or SMOTE. <br > \n",
        "You are definitely welcomed to build your own oversampler. <br >\n",
        "\n",
        "Note that you do not have to over-sample your testing data."
      ]
    },
    {
      "cell_type": "code",
      "execution_count": 38,
      "metadata": {
        "colab": {
          "base_uri": "https://localhost:8080/"
        },
        "id": "g-RcK-fa3vWN",
        "outputId": "faef32f3-3517-4162-b53d-c3bd7f6ac21c"
      },
      "outputs": [
        {
          "name": "stdout",
          "output_type": "stream",
          "text": [
            "Number of 1's: 698\n",
            "Number of 0's: 259\n",
            "Out of: 957\n"
          ]
        }
      ],
      "source": [
        "# Remember to do this task with your processed data from Exercise 3.1\n",
        "print(f\"Number of 1's: {y_train.sum()}\")\n",
        "print(f\"Number of 0's: {y_train.size - y_train.sum()}\")\n",
        "print(f\"Out of: {y_train.size}\")\n"
      ]
    },
    {
      "cell_type": "code",
      "execution_count": 39,
      "metadata": {
        "id": "ZD_Gz6AP7cn9"
      },
      "outputs": [],
      "source": [
        "from imblearn.over_sampling import RandomOverSampler\n",
        "\n",
        "ros = RandomOverSampler(random_state=21)\n",
        "X_os, y_os = ros.fit_resample(X_train, y_train)"
      ]
    },
    {
      "cell_type": "code",
      "execution_count": 40,
      "metadata": {
        "colab": {
          "base_uri": "https://localhost:8080/"
        },
        "id": "trTYQ_P57us5",
        "outputId": "12cd0ecf-9c47-4af1-961f-95f041126771"
      },
      "outputs": [
        {
          "name": "stdout",
          "output_type": "stream",
          "text": [
            "Number of 1's: 698\n",
            "Number of 0's: 698\n",
            "Out of: 1396\n"
          ]
        }
      ],
      "source": [
        "print(f\"Number of 1's: {y_os.sum()}\")\n",
        "print(f\"Number of 0's: {y_os.size - y_os.sum()}\")\n",
        "print(f\"Out of: {y_os.size}\")"
      ]
    },
    {
      "cell_type": "code",
      "execution_count": 52,
      "metadata": {
        "id": "ufskCVRT77fK"
      },
      "outputs": [],
      "source": [
        "# split data set\n",
        "X_train, X_test, y_train, y_test = train_test_split(X_os, y_os, test_size=0.2, random_state=42)\n",
        "\n",
        "# split categorical and numerical data\n",
        "X_train_cat, X_test_cat = X_train[cats], X_test[cats]\n",
        "X_train_num, X_test_num = X_train.drop(columns=cats), X_test.drop(columns=cats)\n",
        "\n",
        "# scale numerical data\n",
        "scaler = preprocessing.MinMaxScaler()\n",
        "scaler.fit(X_train_num)\n",
        "\n",
        "# scaled numerical data frame\n",
        "Z_train = pd.DataFrame(scaler.transform(X_train_num), columns=X_train_num.columns, index=X_train_num.index)\n",
        "Z_test = pd.DataFrame(scaler.transform(X_test_num), columns=X_test_num.columns, index=X_test_num.index)\n",
        "\n",
        "# one hot encode cat vars\n",
        "enc = preprocessing.OneHotEncoder()\n",
        "enc.fit(X_train_cat)\n",
        "X_train_cat_onehot = pd.DataFrame(enc.transform(X_train_cat).toarray(), index=X_train.index)\n",
        "X_train_onehot = pd.concat([X_train_cat_onehot, Z_train], axis=1)\n",
        "\n",
        "enc = preprocessing.OneHotEncoder()\n",
        "enc.fit(X_test_cat)\n",
        "X_test_cat_onehot = pd.DataFrame(enc.transform(X_test_cat).toarray(), index=X_test.index)\n",
        "X_test_onehot = pd.concat([X_test_cat_onehot, Z_test], axis=1)"
      ]
    },
    {
      "cell_type": "code",
      "execution_count": 53,
      "metadata": {
        "colab": {
          "base_uri": "https://localhost:8080/"
        },
        "id": "pKpf3Dv19Rl7",
        "outputId": "91084e70-3dc7-4e86-d770-1ebe1b12789d"
      },
      "outputs": [
        {
          "name": "stdout",
          "output_type": "stream",
          "text": [
            "              precision    recall  f1-score   support\n",
            "\n",
            "           0       0.75      0.68      0.71       151\n",
            "           1       0.66      0.73      0.69       129\n",
            "\n",
            "    accuracy                           0.70       280\n",
            "   macro avg       0.70      0.71      0.70       280\n",
            "weighted avg       0.71      0.70      0.70       280\n",
            "\n"
          ]
        },
        {
          "name": "stderr",
          "output_type": "stream",
          "text": [
            "/usr/local/lib/python3.7/dist-packages/sklearn/utils/validation.py:1692: FutureWarning: Feature names only support names that are all strings. Got feature names with dtypes: ['int', 'str']. An error will be raised in 1.2.\n",
            "  FutureWarning,\n",
            "/usr/local/lib/python3.7/dist-packages/sklearn/utils/validation.py:1692: FutureWarning: Feature names only support names that are all strings. Got feature names with dtypes: ['int', 'str']. An error will be raised in 1.2.\n",
            "  FutureWarning,\n"
          ]
        }
      ],
      "source": [
        "from sklearn.svm import SVC\n",
        "\n",
        "svm = SVC(kernel='linear')\n",
        "svm.fit(X_train_onehot, y_train.ravel())\n",
        "y_pred = svm.predict(X_test_onehot)\n",
        "print(classification_report(y_test.ravel(), y_pred.reshape(-1,1)))"
      ]
    },
    {
      "cell_type": "code",
      "execution_count": 54,
      "metadata": {
        "colab": {
          "base_uri": "https://localhost:8080/"
        },
        "id": "CoH4IIL89Uda",
        "outputId": "e745f12e-06cc-4780-d149-39f2141cbd88"
      },
      "outputs": [
        {
          "name": "stdout",
          "output_type": "stream",
          "text": [
            "              precision    recall  f1-score   support\n",
            "\n",
            "           0       0.80      0.77      0.79       151\n",
            "           1       0.74      0.77      0.76       129\n",
            "\n",
            "    accuracy                           0.77       280\n",
            "   macro avg       0.77      0.77      0.77       280\n",
            "weighted avg       0.77      0.77      0.77       280\n",
            "\n"
          ]
        },
        {
          "name": "stderr",
          "output_type": "stream",
          "text": [
            "/usr/local/lib/python3.7/dist-packages/sklearn/utils/validation.py:1692: FutureWarning: Feature names only support names that are all strings. Got feature names with dtypes: ['int', 'str']. An error will be raised in 1.2.\n",
            "  FutureWarning,\n",
            "/usr/local/lib/python3.7/dist-packages/sklearn/utils/validation.py:1692: FutureWarning: Feature names only support names that are all strings. Got feature names with dtypes: ['int', 'str']. An error will be raised in 1.2.\n",
            "  FutureWarning,\n"
          ]
        }
      ],
      "source": [
        "from sklearn.svm import SVC\n",
        "\n",
        "svm = SVC(kernel='rbf')\n",
        "svm.fit(X_train_onehot, y_train.ravel())\n",
        "y_pred = svm.predict(X_test_onehot)\n",
        "print(classification_report(y_test.ravel(), y_pred.reshape(-1,1)))"
      ]
    },
    {
      "cell_type": "markdown",
      "metadata": {
        "id": "iu67dnim3vWO"
      },
      "source": [
        "## Exercise 4 - Collaborative Statement (5 points) \n",
        "### You must fill this out even if you worked alone to get credit.\n",
        "\n",
        "It is mandatory to include a Statement of Collaboration in each submission, that follows the guidelines below.\n",
        "Include the names of everyone involved in the discussions (especially in-person ones), and what was discussed.\n",
        "All students are required to follow the academic honesty guidelines posted on the course website. For\n",
        "programming assignments in particular, I encourage students to organize (perhaps using Piazza) to discuss the\n",
        "task descriptions, requirements, possible bugs in the support code, and the relevant technical content before they\n",
        "start working on it. However, you should not discuss the specific solutions, and as a guiding principle, you are\n",
        "not allowed to take anything written or drawn away from these discussions (no photographs of the blackboard,\n",
        "written notes, referring to Piazza, etc.). Especially after you have started working on the assignment, try to restrict\n",
        "the discussion to Piazza as much as possible, so that there is no doubt as to the extent of your collaboration."
      ]
    },
    {
      "cell_type": "markdown",
      "metadata": {
        "id": "35HsFujn9k-I"
      },
      "source": [
        "I read some posts on Piazza to get a better idea of how to go about joining the data frames after performing one hot encoding. I also read through the code provided in discussion jupyter notebooks to know which sklearn library functions to use."
      ]
    }
  ],
  "metadata": {
    "colab": {
      "provenance": [],
      "toc_visible": true
    },
    "kernelspec": {
      "display_name": "Python 3.10.8 64-bit",
      "language": "python",
      "name": "python3"
    },
    "language_info": {
      "codemirror_mode": {
        "name": "ipython",
        "version": 3
      },
      "file_extension": ".py",
      "mimetype": "text/x-python",
      "name": "python",
      "nbconvert_exporter": "python",
      "pygments_lexer": "ipython3",
      "version": "3.10.8"
    },
    "vscode": {
      "interpreter": {
        "hash": "b0fa6594d8f4cbf19f97940f81e996739fb7646882a419484c72d19e05852a7e"
      }
    }
  },
  "nbformat": 4,
  "nbformat_minor": 0
}
