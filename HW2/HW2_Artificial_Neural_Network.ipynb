{
  "cells": [
    {
      "cell_type": "markdown",
      "metadata": {
        "id": "dhTEdM56b3-n"
      },
      "source": [
        "### Download the data\n",
        "Let's download and uncompress our data and images here:"
      ]
    },
    {
      "cell_type": "code",
      "execution_count": 6,
      "metadata": {
        "colab": {
          "base_uri": "https://localhost:8080/"
        },
        "id": "gMPNGHDXbxEw",
        "outputId": "926039f6-0f06-4d93-b980-5cc588871f42"
      },
      "outputs": [
        {
          "output_type": "stream",
          "name": "stdout",
          "text": [
            "--2022-11-17 06:10:01--  https://docs.google.com/uc?export=download&id=1-mQuJbHvSq9nRugy96dr0aB7isfzaxMZ\n",
            "Resolving docs.google.com (docs.google.com)... 142.251.16.138, 142.251.16.102, 142.251.16.101, ...\n",
            "Connecting to docs.google.com (docs.google.com)|142.251.16.138|:443... connected.\n",
            "HTTP request sent, awaiting response... 303 See Other\n",
            "Location: https://doc-0g-bc-docs.googleusercontent.com/docs/securesc/ha0ro937gcuc7l7deffksulhg5h7mbp1/cg1vmupt7kavp9pd3rgp17t25jhrf3pu/1668665400000/07583565538848666242/*/1-mQuJbHvSq9nRugy96dr0aB7isfzaxMZ?e=download&uuid=55c06715-1fb0-40cb-a436-3da4b58557ea [following]\n",
            "Warning: wildcards not supported in HTTP.\n",
            "--2022-11-17 06:10:02--  https://doc-0g-bc-docs.googleusercontent.com/docs/securesc/ha0ro937gcuc7l7deffksulhg5h7mbp1/cg1vmupt7kavp9pd3rgp17t25jhrf3pu/1668665400000/07583565538848666242/*/1-mQuJbHvSq9nRugy96dr0aB7isfzaxMZ?e=download&uuid=55c06715-1fb0-40cb-a436-3da4b58557ea\n",
            "Resolving doc-0g-bc-docs.googleusercontent.com (doc-0g-bc-docs.googleusercontent.com)... 172.217.15.97, 2607:f8b0:4004:811::2001\n",
            "Connecting to doc-0g-bc-docs.googleusercontent.com (doc-0g-bc-docs.googleusercontent.com)|172.217.15.97|:443... connected.\n",
            "HTTP request sent, awaiting response... 200 OK\n",
            "Length: 10719579 (10M) [application/x-zip-compressed]\n",
            "Saving to: ‘data.zip’\n",
            "\n",
            "data.zip            100%[===================>]  10.22M  --.-KB/s    in 0.07s   \n",
            "\n",
            "2022-11-17 06:10:02 (150 MB/s) - ‘data.zip’ saved [10719579/10719579]\n",
            "\n",
            "Archive:  data.zip\n",
            "  inflating: assets/flower.png       \n",
            "  inflating: assets/flowerfit.png    \n",
            "  inflating: assets/LogisticRegression.png  \n",
            "  inflating: assets/mayTheFourth.gif  \n",
            "  inflating: assets/NeuralNetwork.key  \n",
            "  inflating: assets/NeuralNetwork.png  \n",
            "  inflating: assets/NeuralNetwork2.png  \n",
            "  inflating: assets/NeuralNetworksSWedition.png  \n",
            "  inflating: assets/nngeneralization.png  \n",
            "  inflating: assets/results_darthvader.png  \n",
            "  inflating: assets/singlelayer.png  \n",
            "   creating: data/cats/\n",
            "  inflating: data/cats/cats.npz      \n",
            "  inflating: data/cats/test_catvnoncat.h5  \n",
            "  inflating: data/cats/train_catvnoncat.h5  \n",
            "   creating: data/mayTheFourth/\n",
            "  inflating: data/mayTheFourth/darth.jpeg  \n",
            "  inflating: data/mayTheFourth/mayTheFourth.npz  \n",
            "   creating: data/rose/\n",
            "  inflating: data/rose/rose.npz      \n",
            "   creating: data/titanic/\n",
            "  inflating: data/titanic/train_data.csv  \n",
            "Please download the data using the following link: https://docs.google.com/uc?export=download&id=1-mQuJbHvSq9nRugy96dr0aB7isfzaxMZ\n"
          ]
        }
      ],
      "source": [
        "import platform\n",
        "mysystem = platform.system()\n",
        "# We need to first download the data here:\n",
        "file_id = '1-mQuJbHvSq9nRugy96dr0aB7isfzaxMZ'\n",
        "file_download_link = \"https://docs.google.com/uc?export=download&id=\" + file_id\n",
        "# Check for windows\n",
        "if mysystem != 'Windows':\n",
        "    !rm -rf assets # force delete because colab pauses while it waits for confirmation\n",
        "    !rm -rf sample_data\n",
        "    !rm -rf data\n",
        "    !wget -O data.zip --no-check-certificate \"$file_download_link\"\n",
        "    !unzip data.zip\n",
        "\n",
        "print('Please download the data using the following link:', file_download_link)\n"
      ]
    },
    {
      "cell_type": "markdown",
      "metadata": {
        "id": "2O9KZgKoYnaP"
      },
      "source": [
        "# Artificial Neural Networks\n"
      ]
    },
    {
      "cell_type": "markdown",
      "metadata": {
        "id": "fASdT6lKYnaS"
      },
      "source": [
        "### Contents\n",
        "1. Artificial neural networks (ANNs) and their link to Logistic regression\n",
        "2. Generalization of multi layer networks\n",
        "3. Step by step implementation of our ANN class\n",
        "4. Does it do what it is supposed to do?\n",
        "    1. linear regression: 25 all over again!\n",
        "    2. Another go at our Titanic dataset\n",
        "    3. Complex fit of flowers\n",
        "    4. Andrew Ng's cat vs non-cat classifying\n",
        "5. Round up\n",
        "**Apendix:**\n",
        "- Data creation/processing for Rose / Cats\n",
        "- Crude version of a hyperparameter sweep\n",
        "\n"
      ]
    },
    {
      "cell_type": "markdown",
      "metadata": {
        "id": "cTteqw79YnaS"
      },
      "source": [
        "## Artificial neural networks (ANNs) and their link to Logistic regression"
      ]
    },
    {
      "cell_type": "markdown",
      "metadata": {
        "id": "LJmMNloLYnaS"
      },
      "source": [
        "When we would ask a random person about Machine Learning, there is a big chance that neural networks are mentioned. Not only does the terminology play with our imagination, but these mathematical structures have also proven themselves to solve complex tasks. Many of you have probably seen such a network and it almost radiates simplicity:\n",
        "\n",
        "<img src=\"https://drive.google.com/uc?id=10yZYlGrKUh0uFDQ862TphkNjT3EBQBIS\" alt=\"Artificial Neural Network example\" width=\"500\" style=\"display: block; margin: 0 auto\" />\n"
      ]
    },
    {
      "cell_type": "markdown",
      "metadata": {
        "id": "60kRcxs2YnaT"
      },
      "source": [
        "In this simple diagram, we show an artificial neural network (ANN), or just simply neural network (NN), which has three layers. By convention, we do not count the input layer, and later we see that this layer in the diagram represents the input data you feed into the NN. This particular NN has two hidden layers. While I am not sure why it exactly is called a hidden layer, I can imagine that one reason could be that these layers are 'hidden' from the user. A user inputs data through the input data and gets results from the output layer, therefore, not interacting with the hidden layers. The user would not see if there is just a single layer, two layers, or even ten layers. The output however, is an actual layer, in our case a single neuron, which 'collects' the results from the previous hidden layer.\n"
      ]
    },
    {
      "cell_type": "markdown",
      "metadata": {
        "id": "mDF1aLoTYnaT"
      },
      "source": [
        "A logistic regression can be seen as the tiniest possible NN, with just a single layer, consisting of a single neuron. A diagram of a logistic regression can look like this:\n",
        "\n",
        "<img src=\"https://drive.google.com/uc?id=1W-qiH9eroJJUZR82Qy81liXnBK_knp37\" alt=\"Artificial Neural Network example\" width=\"400\" style=\"display: block; margin: 0 auto\" />"
      ]
    },
    {
      "cell_type": "markdown",
      "metadata": {
        "id": "iDdqYzipYnaT"
      },
      "source": [
        "Let's do a short recap on this logistic model. First, we massaged the input data in such a way that the individual features ($x_1, x_2, x_3$) are in the rows of our input vector $X$, and the columns are the examples (training samples). This input vector $X$ is then forwarded to our single neuron, which can be divided in two parts. First, a linear operation (linear regression), $z = X W + b$, followed by an activation function $A = g(z)$. In our previous tutorial we performed binary logistic regression, which uses the sigmoid activation function $\\sigma(z) = \\frac{1}{1 + \\exp{-z}}$. Here we generalize this by using $g(z)$ to indicate an activation function we have to define. As we will learn today, there are many other activation functions to choose from.\n",
        "\n",
        "Before we can calculate the activation function we need to calculate the linear part $z$. This is the inner product of the weights vector $W$ and the input vector $X$, with the bias term $b$ added. The bias term $b$ and the weights vector $W$ (consisting of $w_1, w_2, w_3$) are the trainable parameters of this system. Each trainable weight ($w_1, w_2, w_3$) corresponds to an input feature ($x_1, x_2, x_3$) and represents the 'weight' this feature is adding to the problem. These weights are drawn inside the output layer frame, meaning that they are linked to this layer (inside this single neuron).\n"
      ]
    },
    {
      "cell_type": "markdown",
      "metadata": {
        "id": "aB04B12gYnaU"
      },
      "source": [
        "While logistic regression is a great tool, in can only divide the parameter space in a line, at least in the from we have presented here. For example, if you have two features $x_1$ and $x_2$, which will be used to predict $y$, a logistic classifier is only able to have a linear boundary between the two parameters. If this is not completely clear, we will have an example to show this problem.\n",
        "\n",
        "To have the system predict more complex relations, we can add more neurons to a layer and even add more layers to our network. Each of this neuron is a kind of logistic regression unit and many of these combined can predict highly non-linear relations. I say kind of, because in a logistic regression we typically use the sigmoid function, while in a NN, many other activation function perform much better.\n",
        "\n",
        "<img src=\"https://drive.google.com/uc?id=1E1iyQlEDcd7ARsnTS-Tgm3JaK3lGwfKB\" alt=\"Artificial Neural Network example\" width=\"500\" style=\"display: block; margin: 0 auto\" />\n",
        "\n",
        "Before we will start to generalize a NN and the used layers, observe how the different neurons are connected. You will notice that each node is connected to all nodes of the next layer. This is called densely connected (sometimes fully connected) and such a layer is often called a 'Dense layer'. Now, lets try to define such structures.\n"
      ]
    },
    {
      "cell_type": "code",
      "execution_count": 6,
      "metadata": {
        "id": "DsxpjtuGYnaU"
      },
      "outputs": [],
      "source": []
    },
    {
      "cell_type": "markdown",
      "metadata": {
        "id": "KliNfAWUYnaV"
      },
      "source": [
        "## Generalization of multi layer networks"
      ]
    },
    {
      "cell_type": "markdown",
      "metadata": {
        "id": "IPsVuOUAYnaV"
      },
      "source": [
        "Before we can start to develop our system, lets try to first generalize the steps required. The goal of this tutorial is to create a general NN class in which we can add arbitrary number of layers, containing arbitrary number of neurons. Later we will test this structure on various problems with varying complexity.\n",
        "\n",
        "When we think of the input layer, we have already discovered that it is not an actual layer of the neural network, but the training data, massaged in the right form. Therefore, the input 'layer' is not part of our architecture.\n",
        "\n",
        "The neural network will however consist of an arbitrary number of layers. These will be structures that behave in a similar fashion and are sequetial to each other. When doing the forward pass, we will loop through all the layers and use the output of the previous layer as input for the current layer. The output of the final layer, also called the final activation $A$ is the output of the neural network. This means that, if the neural network is used to predict binary values, the output has to be converted (or rounded) to the actual predictions $\\hat Y$.\n",
        "\n",
        "To do one pass of gradient descent, we need to have the weights. For this, we need to calculate the gradient of the loss function with respect of $W$ and $b$ for each layer. To calculate the gradients, we can do a clever trick and cache the values of $z$ and $A$ during the forward pass. We need to do some bookkeeping here the most mathematically heavy part is quite doable.\n",
        "\n",
        "After all gradients are calculated the weights are then updated using a simple gradient descent step. To make is visual I have created the following diagram:\n",
        "\n",
        "<img src=\"https://drive.google.com/uc?id=1jLFZ28_VOCKXmYkaIhVK070gNOuQOSf7\" alt=\"Artificial Neural Network example\" width=\"700\" style=\"display: block; margin: 0 auto\" />"
      ]
    },
    {
      "cell_type": "markdown",
      "metadata": {
        "id": "WxObOFjpOu4G"
      },
      "source": [
        "Here the forward pass calculates our loss and is used in the backward pass to calculate updated weights based on alpha. Next we calculate our loss again in the forward pass which then is used again in the next GD step to update weights based on the gradient descent step based on alpha. We do this until we minimize our loss past a certain threshold or after a certain number of iterations. We will now go into detail of these steps."
      ]
    },
    {
      "cell_type": "markdown",
      "metadata": {
        "id": "uaJnutauYnaV"
      },
      "source": [
        "All layers in the network are fundamentally the same. They can differ in the amount of nodes or the activation function, but there is no structural difference between the first layer $L_1$ and the output layer $L_o$. \n",
        "\n",
        "As we will be creating only fully connected Dense layers, we can create a single structure to do the hard work. In this structure we have to do the math for the forward pass, the backward pass, and the update. The input of each layer is generally the output of the previous layer. Obviously, for the first layer, this is the input vector. For the backward pass, we sequentially go through the network in the reverse direction. However, here we need to do an addtional step. We need to calculate the gradients with respect to the defined loss function. For this we need to input the true labels $Y$ and the predicted output $A$ during the backward pass. After this, we again have that the previous gradient is the input for the next layer (remember: we are going backwards). Each layer handels the backwards pass in the same way:\n",
        "\n",
        "<img src=\"https://drive.google.com/uc?id=13IN6rIkiSdCuT8lT8BSasCj4wdA_spGW\" alt=\"Artificial Neural Network example\" width=\"600\" style=\"display: block; margin: 0 auto\" />\n"
      ]
    },
    {
      "cell_type": "markdown",
      "metadata": {
        "id": "dr62GIGZYnaV"
      },
      "source": [
        "For each layer, in the forward pass, in expects the output of the previous layer (or $X$). This is then cached for use during the backward pass. We calculate the linear part $z$ with one single vectorized inner product calculation for all neurons and add the bias term. We also cache this value of $z$ for the backward pass. Finally, we will calculate the activation function and pass the result to the next layer (or this is the output if it is the final layer).\n",
        "\n",
        "The backward pass is just the forward pass in reverse, but expects the previous gradient as an input. We calculate the gradients, using the cached values of $A_p$ and $z_p$. As a last step we calculate $dA_p$ which will be the input to the next layer. I do not want to focus to much on the actual differentials, but will explain them a bit more in the code. If you really want to know how these differentials are calculated, I would suggest to get a pen and paper and try to calculate them. They are not hard and [Wolfram Alpha](https://www.wolframalpha.com/) can help you :-).\n"
      ]
    },
    {
      "cell_type": "markdown",
      "metadata": {
        "id": "Lb3TFMsiYnaV"
      },
      "source": [
        "If it is not completely clear what each step is doing, do not worry to much about it. I will try to explain each step during the coding part. To have an idea, let us summarize what we will be making:\n",
        "\n",
        "#### Dense Layer Class\n",
        "- structure to hold an arbitrary number of nodes\n",
        "- will have various activation functions\n",
        "- will perform the forward pass through the single layer (z and A)\n",
        "- will perform the backward pass for the layer\n",
        "- will perform the update step for the layer\n",
        "\n",
        "#### Neural Network Class\n",
        "- structure to hold an arbitrary number of layers\n",
        "- will perform the forward pass sequentially through all layers\n",
        "- will do the cost calculation for various loss functions\n",
        "- will perform the backward pass and calculate all gradients\n",
        "- will do an update (a step of gradient descent)\n"
      ]
    },
    {
      "cell_type": "code",
      "execution_count": 6,
      "metadata": {
        "id": "UShVaJiHYnaW"
      },
      "outputs": [],
      "source": []
    },
    {
      "cell_type": "markdown",
      "metadata": {
        "id": "N-xm3KnxYnaW"
      },
      "source": [
        "## Step by step implementation of our ANN class"
      ]
    },
    {
      "cell_type": "markdown",
      "metadata": {
        "id": "uYPvx5awYnaW"
      },
      "source": [
        "Now lets start to implement our NN classes. First import numpy"
      ]
    },
    {
      "cell_type": "code",
      "execution_count": 7,
      "metadata": {
        "id": "zL1c0GPfYnaW"
      },
      "outputs": [],
      "source": [
        "import numpy as np"
      ]
    },
    {
      "cell_type": "markdown",
      "metadata": {
        "id": "cryqx1XlYnaX"
      },
      "source": [
        "Before we can define our main NN class, we need to define our Dense layer class. As I want to do some error checking, we will first define some custom Exceptions:"
      ]
    },
    {
      "cell_type": "code",
      "execution_count": 8,
      "metadata": {
        "id": "eAemRcfmYnaX"
      },
      "outputs": [],
      "source": [
        "class ActivationDoesNotExist(Exception):\n",
        "    \"\"\"Valid activations are sigmoid, tanh, and relu, provided as a string\"\"\"\n",
        "    pass\n",
        "\n",
        "class InputDimensionNotCorrect(Exception):\n",
        "    \"\"\"Need to specify input dimension, i.e. input shape into the first layer\"\"\"\n",
        "    pass\n",
        "\n",
        "class LossFunctionNotDefined(Exception):\n",
        "    \"\"\"Loss function in cost() method not defined\"\"\"\n",
        "    pass"
      ]
    },
    {
      "cell_type": "markdown",
      "metadata": {
        "id": "HtY-qXimYnaX"
      },
      "source": [
        "These exception extend Python's default Exception class and now can be used with the 'raise' keyword to create an exception that tells the user what the mistake is. If you systems get larger, it is good practice to have meaningfull errors. Another great way is using the logging module."
      ]
    },
    {
      "cell_type": "markdown",
      "metadata": {
        "id": "OXbJ-bRVYnaX"
      },
      "source": [
        "Now we can begin with our new class called DenseLayer. This class takes an constructor with two required parameters:\n",
        "- inputDimension, i.e. the number of features of the input vector, or the number of units from the previous layer\n",
        "- units, i.e. the number of neurons in this layer\n",
        "There are two more optional parameters:\n",
        "- activation: here you can indicate what activation the layer should use. Defined are sigmoid, relu, tanh, and ''. The empty string indicates no activation, meaning we just have a regression.\n",
        "- randomMultiplier is the value which the random weights are multiplied. Generally 0.01 is fine, but sometimes tweaking this number can help.\n",
        "\n",
        "As there can me different activation functions and we do not want to chech which activation we have using an if-statement, we make a reference to the used activation functions in the init statement.\n",
        "\n",
        "In the initialize method, the weights are initialized. Notice that the number of neurons nh (units) are in the rows, and the number of input features nx are the columns. This is required to make our dot product work later.\n",
        "\n",
        "Another thing I learned recently is the use of 'self' in Python. While I though I understood the concept, I did not fully understand the concequences. The definition of the class is separated from the values of each instance. These values are stored in the self object, i.e. the object of the instance. In other programming languages it is common to define types it the class itself. However, in Python you have to define these in the init method. When not doing this, the variable is the same object in all your instances and you can get weird results. I just found this [blog-post](https://towardsdatascience.com/python-pitfall-mutable-default-arguments-9385e8265422) where Don Cross has a very clear explanation.\n",
        "\n",
        "\n",
        "```python\n",
        "class DenseLayer:\n",
        "    def __init__(self, inputDimension, units, activation='', randomMultiplier=0.01):\n",
        "        self.weights, self.bias = self.initialize(inputDimension, units, randomMultiplier)\n",
        "        if activation == 'sigmoid':\n",
        "            self.activation = activation\n",
        "            self.activationForward = self.sigmoid\n",
        "            self.activationBackward = self.sigmoidGrad\n",
        "        elif activation == 'relu':\n",
        "            self.activation = activation\n",
        "            self.activationForward = self.relu\n",
        "            self.activationBackward = self.reluGrad\n",
        "        elif activation == 'tanh':\n",
        "            self.activation = activation\n",
        "            self.activationFunction = self.tanh\n",
        "            self.activationBackward = self.tanhGrad\n",
        "        elif activation != '':\n",
        "            raise ActivationDoesNotExist\n",
        "        else:\n",
        "            self.activation = 'none'\n",
        "            self.activationFunction = self.linear\n",
        "            self.activationBackward = self.linear\n",
        "    \n",
        "    def initialize(self, nx, nh, randomMultiplier):\n",
        "        weights = randomMultiplier * np.random.randn(nh, nx)\n",
        "        bias = np.zeros([nh, 1])\n",
        "        return weights, bias\n",
        "\n",
        "```"
      ]
    },
    {
      "cell_type": "markdown",
      "metadata": {
        "id": "oHqOChxmYnaY"
      },
      "source": [
        "Next we define all used activation functions. The sigmoid we already know from the previous Tutorial, however we also include tanh and relu, which are also very common activation functions.\n",
        "\n",
        "Tanh or hyperbolic tangent in full is a function which is similar to the sigmoid, however it maps all real values between -1 and +1. It was very popular, before the Relu function made its way to the stage. \n",
        "\n",
        "Relu, which stands for Rectified linear unit, is probably the most popular activation function. It is fast to calculate and has often better results than the Tanh function. Therefore, if you are not sure, the Relu function is a great start. The Relu function maps all values smaller than 0 to zero and all values larger than 0 as the value itself. \n",
        "\n",
        "The last activation function we will introduce is called the linear function. This is the same as not having an activation function, and is just a placeholder. What comes in, comes out and we use it to test our previous excersise on Linear regression.\n",
        "\n",
        "The backward pass needs the differentials of all these functions, which are provided with the Grad suffix. Feel free to check if these differentials are correct. One additional step for each Grad calculation is that we multiply the input gradient (dA0 with the calculated gradient. This is required because we use the [chain rule](https://en.wikipedia.org/wiki/Differentiation_rules#The_chain_rule) (continously through back propagation).\n"
      ]
    },
    {
      "cell_type": "markdown",
      "metadata": {
        "id": "pSxl13x4YnaY"
      },
      "source": [
        "```python\n",
        "    def sigmoid(self, Z):\n",
        "            A = 1 / (1 + np.exp(-Z))\n",
        "            return A\n",
        "        \n",
        "    def sigmoidGrad(self, dA):\n",
        "            s = 1 / (1 + np.exp(-self.prevZ))\n",
        "            dZ = dA * s * (1 - s)\n",
        "            return dZ\n",
        "    \n",
        "    \n",
        "    def relu(self, Z):\n",
        "            A = np.maximum(0, Z)\n",
        "            return A\n",
        "        \n",
        "    def reluGrad(self, dA):\n",
        "            s = np.maximum(0, self.prevZ)\n",
        "            dZ = (s>0) * 1 * dA\n",
        "            return dZ \n",
        "\n",
        "        \n",
        "    def tanh(self, Z):\n",
        "            A = np.tanh(Z)\n",
        "            return A\n",
        "\n",
        "    def tanhGrad(self, dA):\n",
        "            s = np.tanh(self.prevZ)\n",
        "            dZ = (1 - s**2) * dA\n",
        "            return dZ\n",
        "\n",
        "\n",
        "    def linear(self, Z):\n",
        "        return Z\n",
        "```"
      ]
    },
    {
      "cell_type": "markdown",
      "metadata": {
        "id": "AWvqxVobYnaY"
      },
      "source": [
        "Next, we define the forward propagation step, which should look very familiar:\n",
        "```python\n",
        "    def forward(self, A):\n",
        "        Z = np.dot(self.weights, A) + self.bias\n",
        "        self.prevZ = Z\n",
        "        self.prevA = A\n",
        "        A = self.activationForward(Z)\n",
        "        return A\n",
        "```\n",
        "\n",
        "We first calculate the linear part. Store the values for Z and A for later use in the back propagation and next apply the activation function.\n"
      ]
    },
    {
      "cell_type": "markdown",
      "metadata": {
        "id": "yxnfkWXWYnaY"
      },
      "source": [
        "Before starting our backpropstep we need to define our loss function. For logistic regression it's done with the binary cross entropy, for which I will simply give the equation. \n",
        "\\begin{equation}\n",
        "loss = -\\frac{1}{m}\\sum_{i=1}^{m}y\\log(A)+(1-y)\\log(1-A)\n",
        "\\end{equation}\n",
        "\n",
        "Now for the backwards pass, We would need to differentiate the Loss function with $W$ and $b$. Not to  bore you guys, \n",
        "I have provided these functions:\n",
        "\n",
        "\\begin{equation}\n",
        " \\frac{\\partial loss}{\\partial W} = \\frac{1}{m} \\sum_{i=1}^m  X(A - Y)^T \\\\\n",
        " \\frac{\\partial loss}{\\partial b} = \\frac{1}{m} \\sum_{i=1}^m (A - y)\n",
        "\\end{equation}\n",
        "\n",
        "In Python, this looks like this:\n",
        "\n",
        "The backward propagation looks again similar to the previous tutorial, however we have split the backward activation part to the activation functions itself. Also this function expects to get dA, which is a more generalized form for multiple layers. In our previous single layer example we combined the differential of the loss function in this step. Now this step is in our NN class and not in each layer, as it is only required at the last layer.\n",
        "\n",
        "```python\n",
        "  def backward(self, dA):\n",
        "        dZ = self.activationBackward(dA)\n",
        "        m = self.prevA.shape[1]\n",
        "        self.dW = 1 / m * np.dot(dZ, self.prevA.T)\n",
        "        self.db = 1 / m * np.sum(dZ, axis=1, keepdims=True)\n",
        "        prevdA = np.dot(self.weights.T, dZ)\n",
        "        return prevdA \n",
        "```\n",
        "\n",
        "The gradients are stored in the layer and can be used later by the update function, which performs the gradient descent step. This backward passes chain together for each layer as we will see later.\n"
      ]
    },
    {
      "cell_type": "markdown",
      "metadata": {
        "id": "0WCvZ8OwYnaZ"
      },
      "source": [
        "The final required function is the update function, which performs the gradient descent step. Nothing spectacular but it expects a learning rate.\n",
        "\n",
        "```python\n",
        "    def update(self, learning_rate):\n",
        "        self.weights = self.weights - learning_rate * self.dW\n",
        "        self.bias = self.bias - learning_rate * self.db\n",
        "```\n"
      ]
    },
    {
      "cell_type": "markdown",
      "metadata": {
        "id": "-tYYtmXeYnaZ"
      },
      "source": [
        "While not required, these next function help in printing the model\n",
        "\n",
        "```python    \n",
        "    def __repr__(self):\n",
        "        act = 'none' if self.activation == '' else self.activation\n",
        "        return f'Dense layer (nx={self.weights.shape[1]}, nh={self.weights.shape[0]}, activation={act})'\n",
        "```\n"
      ]
    },
    {
      "cell_type": "markdown",
      "metadata": {
        "id": "X8s37ly0YnaZ"
      },
      "source": [
        "### The complete DenseLayer class"
      ]
    },
    {
      "cell_type": "code",
      "execution_count": 9,
      "metadata": {
        "id": "rYdB_I4XYnaZ"
      },
      "outputs": [],
      "source": [
        "class DenseLayer:\n",
        "    \"\"\"\n",
        "    A class to define fully connected layers.\n",
        "    \"\"\"\n",
        "    \n",
        "    def __init__(self, inputDimension, units, activation='', randomMultiplier=0.01):\n",
        "        \"\"\"\n",
        "        Constructor:\n",
        "          inputDimension: number of input features\n",
        "          units: number of neurons in the layer\n",
        "          activation: activation function applied to layer\n",
        "            - options: 'sigmoid', 'tanh', 'relu', ''\n",
        "          randomMultiplier: multiplier applied to the random weights during initialization\n",
        "        \"\"\"\n",
        "        self.weights, self.bias = self.initialize(inputDimension, units, randomMultiplier)\n",
        "        if activation == 'sigmoid':\n",
        "            self.activation = activation\n",
        "            self.activationForward = self.sigmoid\n",
        "            self.activationBackward = self.sigmoidGrad\n",
        "        elif activation == 'relu':\n",
        "            self.activation = activation\n",
        "            self.activationForward = self.relu\n",
        "            self.activationBackward = self.reluGrad\n",
        "        elif activation == 'tanh':\n",
        "            self.activation = activation\n",
        "            self.activationForward = self.tanh\n",
        "            self.activationBackward = self.tanhGrad\n",
        "        elif activation != '':\n",
        "            raise ActivationDoesNotExist\n",
        "        else:\n",
        "            self.activation = 'none'\n",
        "            self.activationForward = self.linear\n",
        "            self.activationBackward = self.linear\n",
        "    \n",
        "    def initialize(self, nx, nh, randomMultiplier):\n",
        "        \"\"\"\n",
        "        Initializes weights randomly:\n",
        "          nx: number of input features\n",
        "          nh: number of units\n",
        "          randomMultiplier: multiplier applied to the random weights during initialization\n",
        "        returns:\n",
        "          weights: the randomly initialized weights\n",
        "          bias: the bias terms\n",
        "        \"\"\"\n",
        "        weights = randomMultiplier * np.random.randn(nh, nx)\n",
        "        bias = np.zeros([nh, 1])\n",
        "        return weights, bias\n",
        "\n",
        "    \n",
        "    def sigmoid(self, Z):\n",
        "        \"\"\"\n",
        "        Sigmoid activation function\n",
        "        \"\"\"\n",
        "        A = 1 / (1 + np.exp(-Z))\n",
        "        return A\n",
        "        \n",
        "    def sigmoidGrad(self, dA):\n",
        "        \"\"\"\n",
        "        Differential of sigmoid function with chain rule applied\n",
        "        \"\"\"\n",
        "        s = 1 / (1 + np.exp(-self.prevZ))\n",
        "        dZ = dA * s * (1 - s)\n",
        "        return dZ\n",
        "    \n",
        "    \n",
        "    def relu(self, Z):\n",
        "        \"\"\"\n",
        "        Relu activation function\n",
        "        \"\"\"\n",
        "        A = np.maximum(0, Z)\n",
        "        return A\n",
        "        \n",
        "    def reluGrad(self, dA):\n",
        "        \"\"\"\n",
        "        Differential of relu function with chain rule applied\n",
        "        \"\"\"\n",
        "        s = np.maximum(0, self.prevZ)\n",
        "        dZ = (s>0) * 1 * dA\n",
        "        return dZ \n",
        "\n",
        "        \n",
        "    def tanh(self, Z):\n",
        "        \"\"\"\n",
        "        Tanh activation function\n",
        "        \"\"\"\n",
        "        A = np.tanh(Z)\n",
        "        return A\n",
        "\n",
        "    def tanhGrad(self, dA):\n",
        "        \"\"\"\n",
        "        Differential of tanh function with chain rule applied\n",
        "        \"\"\"\n",
        "        s = np.tanh(self.prevZ)\n",
        "        dZ = (1 - s**2) * dA\n",
        "        return dZ\n",
        "\n",
        "\n",
        "    def linear(self, Z):\n",
        "        \"\"\"\n",
        "        Placeholder when no activation function is used\n",
        "        \"\"\"\n",
        "        return Z\n",
        "        \n",
        "    \n",
        "    def forward(self, A):\n",
        "        \"\"\"\n",
        "        Forward pass through layer\n",
        "          A: input vector\n",
        "        \"\"\"\n",
        "        Z = np.dot(self.weights, A) + self.bias\n",
        "        self.prevZ = Z\n",
        "        self.prevA = A\n",
        "        A = self.activationForward(Z)\n",
        "        return A\n",
        "    \n",
        "    \n",
        "    def backward(self, dA):\n",
        "        \"\"\"\n",
        "        Backward pass through layer\n",
        "          dA: previous gradient\n",
        "        \"\"\"\n",
        "        dZ = self.activationBackward(dA)\n",
        "        m = self.prevA.shape[1]\n",
        "        self.dW = 1 / m * np.dot(dZ, self.prevA.T)\n",
        "        self.db = 1 / m * np.sum(dZ, axis=1, keepdims=True)\n",
        "        prevdA = np.dot(self.weights.T, dZ)\n",
        "        return prevdA\n",
        "    \n",
        "    \n",
        "    def update(self, learning_rate):\n",
        "        \"\"\"\n",
        "        Update weights using gradients from backward pass\n",
        "          learning_rate: the learning rate used in the gradient descent\n",
        "        \"\"\"\n",
        "        self.weights = self.weights - learning_rate * self.dW\n",
        "        self.bias = self.bias - learning_rate * self.db\n",
        "\n",
        "        \n",
        "    def outputDimension(self):\n",
        "        \"\"\"\n",
        "        Returns the output dimension for the next layer\n",
        "        \"\"\"\n",
        "        return len(self.bias)\n",
        "\n",
        "    \n",
        "    def __repr__(self):\n",
        "        \"\"\"\n",
        "        Used to print a pretty summary of the layer\n",
        "        \"\"\"\n",
        "        act = 'none' if self.activation == '' else self.activation\n",
        "        return f'Dense layer (nx={self.weights.shape[1]}, nh={self.weights.shape[0]}, activation={act})'\n",
        "\n"
      ]
    },
    {
      "cell_type": "code",
      "execution_count": 9,
      "metadata": {
        "id": "hUniQiGeYnaZ"
      },
      "outputs": [],
      "source": []
    },
    {
      "cell_type": "markdown",
      "metadata": {
        "id": "qjDFwaYqYnaZ"
      },
      "source": [
        "### Alright, one down and one to go.\n",
        "Next we will create a class that will combine the layers. It will also hold the loss function and has to calculate the gradient of the loss. For convenience, we will also add a wrapper to add layers and add a way to pretty print our model."
      ]
    },
    {
      "cell_type": "markdown",
      "metadata": {
        "id": "tpp-8fHAYnaZ"
      },
      "source": [
        "First we start again with the constructor, which has two options, the loss function to be used, and the randomMultiplier used for new layers. The loss function are again created in a function reference and are called using wrapper functions.\n",
        "\n",
        "The model starts with no layers (empty).\n",
        "\n",
        "```python\n",
        "class NeuralNetwork:\n",
        "    def __init__(self, loss='cross-entropy', randomMultiplier = 0.01):\n",
        "        self.layers=[]\n",
        "        self.randomMultiplier = randomMultiplier\n",
        "        if loss=='cross-entropy':\n",
        "            self.lossFunction = self.crossEntropyLoss\n",
        "            self.lossBackward = self.crossEntropyLossGrad\n",
        "        elif loss=='mean-square-error':\n",
        "            self.lossFunction = self.meanSquareError\n",
        "            self.lossBackward = self.meanSquareErrorGrad\n",
        "        else:\n",
        "            raise LossFunctionNotDefined\n",
        "        self.loss=loss\n",
        "```\n"
      ]
    },
    {
      "cell_type": "markdown",
      "metadata": {
        "id": "vbcHcWDWYnaa"
      },
      "source": [
        "The next function is a helper function to add layers to the model. You need to give the inputDimension, i.e. the number of input features of the first layer. For the second and further, it will look for the previous layer and use that as the input dimension.\n",
        "\n",
        "You have to specify the number of neurons in the layer (units) and which activation function to use.\n",
        "\n",
        "```python\n",
        "    def addLayer(self, inputDimension=None, units=1, activation=''):\n",
        "        if (inputDimension is None):\n",
        "            if (len(self.layers)==0):\n",
        "                raise InputDimensionNotCorrect\n",
        "            inputDimension=self.layers[-1].outputDimension()\n",
        "        layer = DenseLayer(inputDimension, units, activation, randomMultiplier= self.randomMultiplier)\n",
        "        self.layers.append(layer)\n",
        "```"
      ]
    },
    {
      "cell_type": "markdown",
      "metadata": {
        "id": "6RrD_LoxYnaa"
      },
      "source": [
        "Next we define the loss functions and their differentials. Feel free to check if the differentials are correct. the cost method is a wrapper to cal the cost in the training loop later.\n",
        "\n",
        "```python\n",
        "    def crossEntropyLoss(self, Y, A, epsilon=1e-15):\n",
        "        m = Y.shape[1]\n",
        "        loss = -1 * (Y * np.log(A + epsilon) + (1 - Y) * np.log(1 - A + epsilon))\n",
        "        cost = 1 / m * np.sum(loss)\n",
        "        return np.squeeze(cost)\n",
        "            \n",
        "    def crossEntropyLossGrad(self, Y, A):\n",
        "        dA = -(np.divide(Y, A) - np.divide(1 - Y, 1 - A))\n",
        "        return dA\n",
        "    \n",
        "    \n",
        "    def meanSquareError(self, Y, A):\n",
        "        loss = np.square(Y - A)\n",
        "        m = Y.shape[1]\n",
        "        cost = 1 / m * np.sum(loss)\n",
        "        return np.squeeze(cost)\n",
        "    \n",
        "    def meanSquareErrorGrad(self, Y, A):\n",
        "        dA = -2 * (Y - A)\n",
        "        return dA\n",
        "\n",
        "    \n",
        "    def cost(self, Y, A):\n",
        "        return self.lossFunction(Y, A)\n",
        "```"
      ]
    },
    {
      "cell_type": "markdown",
      "metadata": {
        "id": "rD0CgvgbYnaa"
      },
      "source": [
        "The forward, backward, and update method are quite similar as they loop over the layers:\n",
        "\n",
        "```python\n",
        "    def forward(self, X):\n",
        "        x = np.copy(X)\n",
        "        for layer in self.layers:\n",
        "            x = layer.forward(x)\n",
        "        return x\n",
        "            \n",
        "    \n",
        "    def backward(self, A, Y):\n",
        "        dA = self.lossBackward(Y, A)\n",
        "        for layer in reversed(self.layers):\n",
        "            dA = layer.backward(dA)\n",
        "    \n",
        "    \n",
        "    def update(self, learning_rate=0.01):\n",
        "        for layer in self.layers:\n",
        "            layer.update(learning_rate)\n",
        "```\n",
        "\n",
        "the backward pass first hast to calculate the first dA, which is de gradient between the activation and the real values. This is then looped through the layers to calculate all gradients.\n"
      ]
    },
    {
      "cell_type": "markdown",
      "metadata": {
        "id": "LkZF67zdYnaa"
      },
      "source": [
        "The last two methods are again for pretty printing and one for trainable parameter counting. Nothing special."
      ]
    },
    {
      "cell_type": "markdown",
      "metadata": {
        "id": "OSfKvJ8rYnaa"
      },
      "source": [
        "### The complete NeuralNetwork class"
      ]
    },
    {
      "cell_type": "code",
      "execution_count": 10,
      "metadata": {
        "id": "YjQSvkftYnaa"
      },
      "outputs": [],
      "source": [
        "class NeuralNetwork:\n",
        "    \"\"\"\n",
        "    Neural Network structure that holds our layers\n",
        "    \"\"\"\n",
        "    \n",
        "    def __init__(self, loss='cross-entropy', randomMultiplier = 0.01):\n",
        "        \"\"\"\n",
        "        Constructor:\n",
        "          loss: the loss function. Two are defined:\n",
        "             - 'cross-entropy' and 'mean-square-error'\n",
        "          randomMultiplier: multiplier applied to the random weights during initialization\n",
        "        \"\"\"\n",
        "        self.layers=[]\n",
        "        self.randomMultiplier = randomMultiplier\n",
        "        if loss=='cross-entropy':\n",
        "            self.lossFunction = self.crossEntropyLoss\n",
        "            self.lossBackward = self.crossEntropyLossGrad\n",
        "        elif loss=='mean-square-error':\n",
        "            self.lossFunction = self.meanSquareError\n",
        "            self.lossBackward = self.meanSquareErrorGrad\n",
        "        else:\n",
        "            raise LossFunctionNotDefined\n",
        "        self.loss=loss\n",
        "\n",
        "\n",
        "    def addLayer(self, inputDimension=None, units=1, activation=''):\n",
        "        \"\"\"\n",
        "        Adds a Dense layer to the network:\n",
        "          inputDimension: required when it is the first layer. otherwise takes dimensions of previous layer.\n",
        "          units: number of neurons in the layer\n",
        "          activation: activation function: valid choices are: 'sigmoid', 'tanh', 'relu', ''\n",
        "        \"\"\"\n",
        "        if (inputDimension is None):\n",
        "            if (len(self.layers)==0):\n",
        "                raise InputDimensionNotCorrect\n",
        "            inputDimension=self.layers[-1].outputDimension()\n",
        "        layer = DenseLayer(inputDimension, units, activation, randomMultiplier= self.randomMultiplier)\n",
        "        self.layers.append(layer)\n",
        "\n",
        "    def crossEntropyLoss(self, Y, A, epsilon=1e-15):\n",
        "        \"\"\"\n",
        "        Cross Entropy loss function\n",
        "          Y: true labels\n",
        "          A: final activation function (predicted labels)\n",
        "          epsilon: small value to make minimize chance for log(0) error\n",
        "        \"\"\"\n",
        "        m = Y.shape[1]\n",
        "        loss = -1 * (Y * np.log(A + epsilon) + (1 - Y) * np.log(1 - A + epsilon))\n",
        "        cost = 1 / m * np.sum(loss)\n",
        "        return np.squeeze(cost)\n",
        "            \n",
        "    def crossEntropyLossGrad(self, Y, A):\n",
        "        \"\"\"\n",
        "        Cross Entropy loss Gradient\n",
        "          Y: true labels\n",
        "          A: final activation function (predicted labels)\n",
        "        \"\"\"\n",
        "        dA = -(np.divide(Y, A) - np.divide(1 - Y, 1 - A))\n",
        "        return dA\n",
        "    \n",
        "    \n",
        "    def meanSquareError(self, Y, A):\n",
        "        \"\"\"\n",
        "        Mean square error loss function\n",
        "          Y: true labels\n",
        "          A: final activation function (predicted labels)\n",
        "        \"\"\"\n",
        "        loss = np.square(Y - A)\n",
        "        m = Y.shape[1]\n",
        "        cost = 1 / m * np.sum(loss)\n",
        "        return np.squeeze(cost)\n",
        "    \n",
        "    def meanSquareErrorGrad(self, Y, A):\n",
        "        \"\"\"\n",
        "        Mean square error loss gradient\n",
        "          Y: true labels\n",
        "          A: final activation function (predicted labels)\n",
        "        \"\"\"\n",
        "        dA = -2 * (Y - A)\n",
        "        return dA\n",
        "\n",
        "    \n",
        "    def cost(self, Y, A):\n",
        "        \"\"\"\n",
        "        Cost function wrapper\n",
        "          Y: true labels\n",
        "          A: final activation function (predicted labels)\n",
        "        \"\"\"\n",
        "        return self.lossFunction(Y, A)\n",
        "\n",
        "        \n",
        "    def forward(self, X):\n",
        "        \"\"\"\n",
        "        Forward pass through the whole model.\n",
        "          X: input vector\n",
        "        \"\"\"\n",
        "        x = np.copy(X)\n",
        "        for layer in self.layers:\n",
        "            x = layer.forward(x)\n",
        "        return x\n",
        "            \n",
        "    \n",
        "    def backward(self, A, Y):\n",
        "        \"\"\"\n",
        "        backward pass through the whole model\n",
        "          Y: true labels\n",
        "          A: final activation function (predicted labels)\n",
        "        \"\"\"\n",
        "        dA = self.lossBackward(Y, A)\n",
        "        for layer in reversed(self.layers):\n",
        "            dA = layer.backward(dA)\n",
        "    \n",
        "    \n",
        "    def update(self, learning_rate=0.01):\n",
        "        \"\"\"\n",
        "        Update weights and do a step of gradient descent for the whole model.\n",
        "          learning_rate: learning_rate to use\n",
        "        \"\"\"\n",
        "        for layer in self.layers:\n",
        "            layer.update(learning_rate)\n",
        "    \n",
        "    \n",
        "    def __repr__(self):\n",
        "        \"\"\"\n",
        "        Pretty print the model\n",
        "        \"\"\"\n",
        "        layrepr = ['  ' + str(ix+1)+' -> ' + str(x) for ix, x in enumerate(self.layers)]\n",
        "        return '[\\n' + '\\n'.join(layrepr) + '\\n]'\n",
        "   \n",
        "    \n",
        "    def numberOfParameters(self):\n",
        "        \"\"\"\n",
        "        Print number of trainable parameters in the model\n",
        "        \"\"\"\n",
        "        n = 0\n",
        "        for layer in self.layers:\n",
        "            n += np.size(layer.weights) + len(layer.bias)\n",
        "        print(f'There are {n} trainable parameters in the model.')\n",
        "            "
      ]
    },
    {
      "cell_type": "code",
      "execution_count": 10,
      "metadata": {
        "id": "ggh2LaiwYnab"
      },
      "outputs": [],
      "source": []
    },
    {
      "cell_type": "markdown",
      "metadata": {
        "id": "jPsr5O_CYnab"
      },
      "source": [
        "Alright, the classes are done. Now we need to put these classes to a test. While it looks quite ordered, a small error in one of the differentials can make our whole system useless. Therefore, we will test in small steps in the next section. Looking forward for the spin!"
      ]
    },
    {
      "cell_type": "code",
      "execution_count": 10,
      "metadata": {
        "id": "4MWe60pQYnab"
      },
      "outputs": [],
      "source": []
    },
    {
      "cell_type": "markdown",
      "metadata": {
        "id": "Jw8S1-8LYnab"
      },
      "source": [
        "## 1. Does it do what it is supposed to do?"
      ]
    },
    {
      "cell_type": "markdown",
      "metadata": {
        "id": "2qIYXx9VYnab"
      },
      "source": [
        "Nothing is more ennoying than waiting for nothing. Therefore, it is important to first test the easy things instead of training for hours to see that you made a mistake in the loss function. Let us repeat the experiments from last time"
      ]
    },
    {
      "cell_type": "code",
      "execution_count": 10,
      "metadata": {
        "id": "iGDZUNq0Ynab"
      },
      "outputs": [],
      "source": []
    },
    {
      "cell_type": "markdown",
      "metadata": {
        "id": "guiYfD2PYnab"
      },
      "source": [
        "### Linear regression: 25 all over again!"
      ]
    },
    {
      "cell_type": "markdown",
      "metadata": {
        "id": "E-4wqNarYnac"
      },
      "source": [
        "We created an array with a couple of input values $X$. Next we supplied $Y$ using the super duper complicated formula $y = 2x + 1$. In Numpy this looks like this:"
      ]
    },
    {
      "cell_type": "code",
      "execution_count": 11,
      "metadata": {
        "id": "m8QguaNmQK8o"
      },
      "outputs": [],
      "source": [
        "import numpy as np"
      ]
    },
    {
      "cell_type": "code",
      "execution_count": 12,
      "metadata": {
        "id": "WwPq6Dk8Ynac"
      },
      "outputs": [],
      "source": [
        "X = np.arange(-2, 5, 1).reshape([1, 7]) # Columns as examples\n",
        "Y = 2 * X + 1"
      ]
    },
    {
      "cell_type": "markdown",
      "metadata": {
        "id": "SQJQ60yrYnac"
      },
      "source": [
        "Now we will build our model which will try to find our difficult formula and match the true value of 25. For this we will initiate our fresh class and set the loss to mean-square-error. Next we will add a single layer, with a single neuron and no activation function. Lets also try our pretty print :-)"
      ]
    },
    {
      "cell_type": "code",
      "execution_count": 13,
      "metadata": {
        "colab": {
          "base_uri": "https://localhost:8080/"
        },
        "id": "9oBvjh0iYnac",
        "outputId": "1c44755f-c4e5-460d-87f5-3f7ac2bc42b2"
      },
      "outputs": [
        {
          "output_type": "execute_result",
          "data": {
            "text/plain": [
              "[\n",
              "  1 -> Dense layer (nx=1, nh=1, activation=none)\n",
              "]"
            ]
          },
          "metadata": {},
          "execution_count": 13
        }
      ],
      "source": [
        "np.random.seed(1)\n",
        "\n",
        "model = NeuralNetwork(loss='mean-square-error')\n",
        "model.addLayer(inputDimension=1, units=1, activation='')\n",
        "model"
      ]
    },
    {
      "cell_type": "markdown",
      "metadata": {
        "id": "mxLEd262Ynac"
      },
      "source": [
        "Now we will need our training loop again. It will look very familiar to our logistic regression model from last time:"
      ]
    },
    {
      "cell_type": "code",
      "execution_count": 14,
      "metadata": {
        "colab": {
          "base_uri": "https://localhost:8080/"
        },
        "id": "i3QrXRjoYnac",
        "outputId": "a60dfbb5-507b-4925-c9f2-1a9e5495c34d"
      },
      "outputs": [
        {
          "output_type": "stream",
          "name": "stdout",
          "text": [
            "cost: 24.643963268924306\n",
            "cost: 0.009408179907957642\n",
            "cost: 0.00043269013393172113\n",
            "cost: 1.989979716251954e-05\n",
            "cost: 9.152090515935006e-07\n",
            "cost: 4.2091263608210285e-08\n",
            "cost: 1.935813975001762e-09\n",
            "cost: 8.902977540761639e-11\n",
            "cost: 4.094557128292547e-12\n",
            "cost: 1.8831225851087109e-13\n"
          ]
        }
      ],
      "source": [
        "num_iterations = 1000\n",
        "for ix in range(num_iterations):\n",
        "    A = model.forward(X)\n",
        "    model.backward(A, Y)\n",
        "    model.update()\n",
        "    if ix % 100 == 0:\n",
        "        print('cost:', model.cost(Y, A)) "
      ]
    },
    {
      "cell_type": "markdown",
      "metadata": {
        "id": "KdAIEiusYnac"
      },
      "source": [
        "The cost decreases as expected and due to the long training the value is close to machine precision. Would we again find 25 when we use the forward?"
      ]
    },
    {
      "cell_type": "code",
      "execution_count": 15,
      "metadata": {
        "colab": {
          "base_uri": "https://localhost:8080/"
        },
        "id": "UVBDmEHKYnac",
        "outputId": "c5c41fc2-a49d-4c30-aefe-9badcbb84eb2"
      },
      "outputs": [
        {
          "output_type": "execute_result",
          "data": {
            "text/plain": [
              "array([[25.00000019]])"
            ]
          },
          "metadata": {},
          "execution_count": 15
        }
      ],
      "source": [
        "model.forward(12)"
      ]
    },
    {
      "cell_type": "markdown",
      "metadata": {
        "id": "bIyoz_XPYnac"
      },
      "source": [
        "Of course we do!"
      ]
    },
    {
      "cell_type": "code",
      "execution_count": 15,
      "metadata": {
        "id": "usfq0Yk_Ynad"
      },
      "outputs": [],
      "source": []
    },
    {
      "cell_type": "markdown",
      "metadata": {
        "id": "E5tZrqrYYnad"
      },
      "source": [
        "### A go at our Titanic dataset"
      ]
    },
    {
      "cell_type": "code",
      "execution_count": 16,
      "metadata": {
        "id": "WduTB6rNYnad"
      },
      "outputs": [],
      "source": [
        "import pandas as pd"
      ]
    },
    {
      "cell_type": "code",
      "execution_count": 17,
      "metadata": {
        "id": "dYQ-sdC3Ynad"
      },
      "outputs": [],
      "source": [
        "df = pd.read_csv('./data/titanic/train_data.csv')\n",
        "df = df.drop(['Unnamed: 0', 'PassengerId'], axis=1)\n",
        "Y = df['Survived'].to_numpy().reshape([1, -1])\n",
        "X = df.drop(columns = 'Survived')\n",
        "X = df.iloc[:,1:].to_numpy().T"
      ]
    },
    {
      "cell_type": "code",
      "execution_count": 18,
      "metadata": {
        "colab": {
          "base_uri": "https://localhost:8080/"
        },
        "id": "ankU5ItgYnad",
        "outputId": "ab894bb4-80aa-4a5c-eca5-bdc217a46887"
      },
      "outputs": [
        {
          "output_type": "execute_result",
          "data": {
            "text/plain": [
              "(14, 792)"
            ]
          },
          "metadata": {},
          "execution_count": 18
        }
      ],
      "source": [
        "X.shape"
      ]
    },
    {
      "cell_type": "code",
      "execution_count": 19,
      "metadata": {
        "colab": {
          "base_uri": "https://localhost:8080/"
        },
        "id": "KtAjMP9ZYnad",
        "outputId": "e26f42cb-e69c-46fc-cd91-684eda650019"
      },
      "outputs": [
        {
          "output_type": "execute_result",
          "data": {
            "text/plain": [
              "(1, 792)"
            ]
          },
          "metadata": {},
          "execution_count": 19
        }
      ],
      "source": [
        "Y.shape"
      ]
    },
    {
      "cell_type": "markdown",
      "metadata": {
        "id": "GTx3KGp8Ynad"
      },
      "source": [
        "We need to change the model to have 14 input features and of course the sigmoid activation function. The loss function will be cross-entropy, which is the default, so we do not need to specify it."
      ]
    },
    {
      "cell_type": "code",
      "execution_count": 20,
      "metadata": {
        "colab": {
          "base_uri": "https://localhost:8080/"
        },
        "id": "N9nNSPKuYnad",
        "outputId": "15c0eb2d-402f-4c4e-8756-7db0667d177e"
      },
      "outputs": [
        {
          "output_type": "execute_result",
          "data": {
            "text/plain": [
              "[\n",
              "  1 -> Dense layer (nx=14, nh=1, activation=sigmoid)\n",
              "]"
            ]
          },
          "metadata": {},
          "execution_count": 20
        }
      ],
      "source": [
        "np.random.seed(1)\n",
        "\n",
        "model = NeuralNetwork()\n",
        "model.addLayer(inputDimension=14, units=1, activation='sigmoid')\n",
        "model"
      ]
    },
    {
      "cell_type": "markdown",
      "metadata": {
        "id": "goC62oqsYnae"
      },
      "source": [
        "Last time, we had an train accuracy of 80%. Can we match this as well?"
      ]
    },
    {
      "cell_type": "code",
      "execution_count": 21,
      "metadata": {
        "id": "GQnG-K6bYnae"
      },
      "outputs": [],
      "source": [
        "def roundValue(A):\n",
        "    return np.uint8( A > 0.5)\n",
        "\n",
        "def accuracy(yhat, Y):\n",
        "    return round(np.sum(yhat==Y) / len(yhat.flatten()) * 1000) / 10"
      ]
    },
    {
      "cell_type": "code",
      "execution_count": 22,
      "metadata": {
        "colab": {
          "base_uri": "https://localhost:8080/"
        },
        "id": "m9BHPKlIYnae",
        "outputId": "a1d6548e-61af-4f0a-cf20-4fbb5ea9d268"
      },
      "outputs": [
        {
          "output_type": "stream",
          "name": "stdout",
          "text": [
            "cost: 0.6912384614194468 \taccuracy: 58.7%\n",
            "cost: 0.5140056920509907 \taccuracy: 75.9%\n",
            "cost: 0.4824062497934128 \taccuracy: 79.5%\n",
            "cost: 0.4697113881273363 \taccuracy: 79.5%\n",
            "cost: 0.46275860969195476 \taccuracy: 79.8%\n",
            "cost: 0.4580742945870081 \taccuracy: 79.8%\n",
            "cost: 0.4544915367177524 \taccuracy: 79.8%\n",
            "cost: 0.4515471545581365 \taccuracy: 80.8%\n"
          ]
        }
      ],
      "source": [
        "num_iterations = 8000\n",
        "for ix in range(num_iterations):\n",
        "    A = model.forward(X)\n",
        "    model.backward(A, Y)\n",
        "    model.update()\n",
        "    if ix % 1000 == 0:\n",
        "        yhat = roundValue(A)\n",
        "        print('cost:', model.cost(Y, A), f'\\taccuracy: {accuracy(yhat, Y)}%')     "
      ]
    },
    {
      "cell_type": "markdown",
      "metadata": {
        "id": "dhwpjVLgYnae"
      },
      "source": [
        "Of course we can!"
      ]
    },
    {
      "cell_type": "markdown",
      "metadata": {
        "id": "PUrkSv1vSaRQ"
      },
      "source": [
        "## Q1: We will now implement customization via Keras as the examples above are specific to their respective datasets and are for example only to work through for learning purposes only. **They will not properly run if customized** (25 points)"
      ]
    },
    {
      "cell_type": "code",
      "execution_count": 23,
      "metadata": {
        "id": "qwAdEE9sSwUH"
      },
      "outputs": [],
      "source": [
        "# Prerequisite library imports\n",
        "import pandas as pd\n",
        "from sklearn.model_selection import train_test_split\n",
        "from keras.models import Sequential\n",
        "from keras.layers import Dense\n",
        "\n",
        "# Let's reimport our data\n",
        "df = pd.read_csv('./data/titanic/train_data.csv')\n",
        "X = df.drop(['Unnamed: 0', 'PassengerId'], axis=1)\n",
        "y = df['Survived']\n",
        "X = X.drop(columns = 'Survived')"
      ]
    },
    {
      "cell_type": "markdown",
      "metadata": {
        "id": "LVC85pIxYnae"
      },
      "source": [
        "### 1.1) Above we use the Keras libraries to build the model. Here we want to implement a form of scaling to your data either through minmax normalization or z-score standardization using the sklearn.preprocessing libraries (MinMaxScalar or StandardScaler). Justify why you chose one over the other. If the data is already scaled, you still must choose to normalize or standardize. (10 points) "
      ]
    },
    {
      "cell_type": "markdown",
      "metadata": {
        "id": "i7IISVL8mQl5"
      },
      "source": [
        "To decide whether we will standardize or only normalize our data, we will generate histograms to see if the data appears normal. If the data shows a normal distribution, it should be safe to standardize. I've removed the binary features to make the data more readable, and since normalization doesn't affect those anyways."
      ]
    },
    {
      "cell_type": "code",
      "execution_count": 24,
      "metadata": {
        "id": "OfT4SBwri3hT"
      },
      "outputs": [],
      "source": [
        "import seaborn as sns"
      ]
    },
    {
      "cell_type": "code",
      "execution_count": 25,
      "metadata": {
        "id": "0Rpt0Ifykq7t"
      },
      "outputs": [],
      "source": [
        "# df.drop(labels=['Unnamed:0', 'PassengerId', 'Sex', 'Pclass_1', 'Pclass_2', 'Pclass_3', 'Title_1', 'Title_2', 'Title_3', 'Title_4', 'Emb_1', 'Emb_2', 'Emb_3'])\n",
        "onlyContinuous = df.drop(labels=['Unnamed: 0', 'PassengerId', \n",
        "                'Sex', 'Pclass_1','Pclass_2','Pclass_3',\n",
        "                'Title_1', 'Title_2', 'Title_3', 'Title_4',\n",
        "                'Emb_1', 'Emb_2', 'Emb_3'], axis=1)"
      ]
    },
    {
      "cell_type": "code",
      "execution_count": 26,
      "metadata": {
        "colab": {
          "base_uri": "https://localhost:8080/",
          "height": 568
        },
        "id": "AYRjCVJ6jEn5",
        "outputId": "e42333fd-8324-47b0-f070-f484b17bc0db"
      },
      "outputs": [
        {
          "output_type": "execute_result",
          "data": {
            "text/plain": [
              "<seaborn.axisgrid.PairGrid at 0x7f4e45604d50>"
            ]
          },
          "metadata": {},
          "execution_count": 26
        },
        {
          "output_type": "display_data",
          "data": {
            "text/plain": [
              "<Figure size 591.875x540 with 12 Axes>"
            ],
            "image/png": "[encoded data removed]"
          },
          "metadata": {
            "needs_background": "light"
          }
        }
      ],
      "source": [
        "sns.pairplot(onlyContinuous, hue='Survived')"
      ]
    },
    {
      "cell_type": "markdown",
      "metadata": {
        "id": "TPWABIF0mkN5"
      },
      "source": [
        "Based on the pairplot, we should normalize rather than standardize, since the data does not appear normal already."
      ]
    },
    {
      "cell_type": "code",
      "execution_count": 27,
      "metadata": {
        "id": "c4f1E7_QnuJE"
      },
      "outputs": [],
      "source": [
        "# Please use your scalarization of X here: then run the cell below to split your training and test data.\n",
        "from sklearn.preprocessing import MinMaxScaler\n",
        "scaler = MinMaxScaler(feature_range=[0,1])\n",
        "X = scaler.fit_transform(X)"
      ]
    },
    {
      "cell_type": "code",
      "execution_count": 28,
      "metadata": {
        "colab": {
          "base_uri": "https://localhost:8080/",
          "height": 54
        },
        "id": "xJuj0FZ5iRHK",
        "outputId": "a21dafcc-22c2-4c89-c3d6-97376ad305e6"
      },
      "outputs": [
        {
          "output_type": "display_data",
          "data": {
            "text/plain": [
              "(633, 14)"
            ]
          },
          "metadata": {}
        },
        {
          "output_type": "display_data",
          "data": {
            "text/plain": [
              "(633,)"
            ]
          },
          "metadata": {}
        }
      ],
      "source": [
        "X_train, X_test, y_train, y_test = train_test_split(X, y, test_size=0.2, random_state=21)\n",
        "display(X_train.shape)\n",
        "display(y_train.shape)"
      ]
    },
    {
      "cell_type": "markdown",
      "metadata": {
        "id": "6ru-Sg5jYnae"
      },
      "source": [
        "### 1.2) Using the example for traindata above create a model using different activation functions by setting MYACTIVATIONFXN: (10 points) \n",
        "\n",
        "```python\n",
        "# Hint! Start with model.add(Dense(units = 16, activation = 'relu', input_dim = ?))\n",
        "# Make sure the input_dim parameter is set to the number of features in your X matrix.\n",
        "MYACTIVATIONFXN = 'SOMEFXN'\n",
        "model.add(Dense(units = 14, activation = MYACTIVATIONFXN, input_dim = ?)) # input dimension should be the number of features\n",
        "```\n"
      ]
    },
    {
      "cell_type": "code",
      "execution_count": 29,
      "metadata": {
        "id": "5xgTkhJUiRHK"
      },
      "outputs": [],
      "source": [
        "# Let's initialize our model\n",
        "model = Sequential() # Initialising the ANN"
      ]
    },
    {
      "cell_type": "code",
      "execution_count": 30,
      "metadata": {
        "id": "U6D4qvTGYnaf"
      },
      "outputs": [],
      "source": [
        "# If you decide to initially use a sigmoid, make sure the number of units matches the number of targets\n",
        "# in this case we only have 1 target so for sigmoid you need to set units to 1\n",
        "MYACTIVATIONFXN = 'sigmoid'\n",
        "model.add(Dense(units = 1, activation = MYACTIVATIONFXN, input_dim = X.shape[1]))"
      ]
    },
    {
      "cell_type": "markdown",
      "metadata": {
        "id": "yfInuSI-UH0O"
      },
      "source": [
        "### Now lets compile our model using the function compile\n",
        "### Here we will use rmsprop as an optimizer and binary crossentropy as our loss function"
      ]
    },
    {
      "cell_type": "code",
      "execution_count": 31,
      "metadata": {
        "id": "FPF064_rUIGk"
      },
      "outputs": [],
      "source": [
        "from keras.metrics import Precision\n",
        "from keras.metrics import Recall\n",
        "\n",
        "model.compile(optimizer = 'rmsprop', loss = 'binary_crossentropy', metrics=['accuracy', Precision(), Recall()])"
      ]
    },
    {
      "cell_type": "markdown",
      "metadata": {
        "id": "8xXvT24DUlRF"
      },
      "source": [
        "### Here we will run our ANN using the fit function using a batch size of 1 and 10 epochs (In the examples above iterations is used instead of epochs). Feel free to play with batch_size and epochs."
      ]
    },
    {
      "cell_type": "code",
      "execution_count": 32,
      "metadata": {
        "colab": {
          "base_uri": "https://localhost:8080/"
        },
        "id": "ELg4LXeYUpdx",
        "outputId": "65a3e40e-ffac-4531-b369-f44b302b468e"
      },
      "outputs": [
        {
          "output_type": "stream",
          "name": "stdout",
          "text": [
            "Epoch 1/10\n",
            "633/633 [==============================] - 2s 2ms/step - loss: 0.6987 - accuracy: 0.5498 - precision: 0.4238 - recall: 0.5356\n",
            "Epoch 2/10\n",
            "633/633 [==============================] - 1s 2ms/step - loss: 0.6008 - accuracy: 0.6872 - precision: 0.7071 - recall: 0.2929\n",
            "Epoch 3/10\n",
            "633/633 [==============================] - 1s 2ms/step - loss: 0.5637 - accuracy: 0.7251 - precision: 0.8283 - recall: 0.3431\n",
            "Epoch 4/10\n",
            "633/633 [==============================] - 1s 2ms/step - loss: 0.5391 - accuracy: 0.7583 - precision: 0.8839 - recall: 0.4142\n",
            "Epoch 5/10\n",
            "633/633 [==============================] - 1s 2ms/step - loss: 0.5197 - accuracy: 0.7820 - precision: 0.8976 - recall: 0.4770\n",
            "Epoch 6/10\n",
            "633/633 [==============================] - 1s 2ms/step - loss: 0.5069 - accuracy: 0.7820 - precision: 0.8741 - recall: 0.4937\n",
            "Epoch 7/10\n",
            "633/633 [==============================] - 1s 2ms/step - loss: 0.4954 - accuracy: 0.7962 - precision: 0.8526 - recall: 0.5565\n",
            "Epoch 8/10\n",
            "633/633 [==============================] - 1s 2ms/step - loss: 0.4886 - accuracy: 0.7930 - precision: 0.8176 - recall: 0.5816\n",
            "Epoch 9/10\n",
            "633/633 [==============================] - 1s 2ms/step - loss: 0.4827 - accuracy: 0.8041 - precision: 0.8075 - recall: 0.6318\n",
            "Epoch 10/10\n",
            "633/633 [==============================] - 1s 2ms/step - loss: 0.4784 - accuracy: 0.8057 - precision: 0.8085 - recall: 0.6360\n"
          ]
        },
        {
          "output_type": "execute_result",
          "data": {
            "text/plain": [
              "<keras.callbacks.History at 0x7f4e450ce0d0>"
            ]
          },
          "metadata": {},
          "execution_count": 32
        }
      ],
      "source": [
        "model.fit(X_train.astype('float'), y_train, batch_size = 1, epochs = 10)"
      ]
    },
    {
      "cell_type": "code",
      "execution_count": 32,
      "metadata": {
        "id": "QrZiNdeJiRHL"
      },
      "outputs": [],
      "source": []
    },
    {
      "cell_type": "markdown",
      "metadata": {
        "id": "2AOBK9hbYnaf"
      },
      "source": [
        "### 1.3) How does the error (in terms of precission and recall) differ between your model and the example? Write in one paragraph or less how the error differs and why. (5 points) "
      ]
    },
    {
      "cell_type": "code",
      "execution_count": 33,
      "metadata": {
        "id": "fP8EYlBUYnaf"
      },
      "outputs": [],
      "source": [
        "# Hint! Use the predict function and threshold your results. 0.5 is reasonable.\n",
        "# Please see the BCC jupyter notebook to see how to do this"
      ]
    },
    {
      "cell_type": "code",
      "execution_count": 34,
      "metadata": {
        "colab": {
          "base_uri": "https://localhost:8080/"
        },
        "id": "LaPyEUopiRHL",
        "outputId": "f4ffda25-3823-45c3-89b7-50417b9883be"
      },
      "outputs": [
        {
          "output_type": "stream",
          "name": "stdout",
          "text": [
            "5/5 [==============================] - 0s 2ms/step\n"
          ]
        }
      ],
      "source": [
        "yhat_test = model.predict(X_test)\n",
        "yhat_test_bin = [0 if a < 0.5 else 1 for a in yhat_test]"
      ]
    },
    {
      "cell_type": "code",
      "execution_count": 35,
      "metadata": {
        "id": "03KM6-zfgDyg"
      },
      "outputs": [],
      "source": [
        "def xnor(i, j):\n",
        "  return int((i and j) or (not (i or j)))"
      ]
    },
    {
      "cell_type": "code",
      "execution_count": 36,
      "metadata": {
        "id": "bg3TB6ZnfLe-",
        "colab": {
          "base_uri": "https://localhost:8080/"
        },
        "outputId": "bf11cae1-ced4-40ed-f973-c52faba38c1d"
      },
      "outputs": [
        {
          "output_type": "execute_result",
          "data": {
            "text/plain": [
              "56"
            ]
          },
          "metadata": {},
          "execution_count": 36
        }
      ],
      "source": [
        "testdf = pd.DataFrame()\n",
        "testdf['y_test'] = y_test\n",
        "testdf['yhat_test'] = yhat_test_bin\n",
        "testdf['correct'] = testdf.apply(lambda x: xnor(x.yhat_test, x.y_test), axis=1)\n",
        "testdf.yhat_test.sum()"
      ]
    },
    {
      "cell_type": "markdown",
      "metadata": {
        "id": "P3b_SreQjnKw"
      },
      "source": [
        "The model accuracy is 0.8215, which places it slightly above the example model accuracy. This means that given the 14 features, the model predicted whether the passenger survived 82.15% of the time. The precision is 0.8182, which means that of the passengers identified as surviving, 81.82% were correctly identified. Recall is 0.6778, which means that only 67.78% of the surviving passengers were identified as surviving by the model. \n",
        "\n",
        "Further research is warranted, but the model could likely be improved by adding hidden layers and experimenting with different activation functions."
      ]
    },
    {
      "cell_type": "markdown",
      "metadata": {
        "id": "NfKWyWNHYnaf"
      },
      "source": [
        "## 2) Complex fit of flowers"
      ]
    },
    {
      "cell_type": "markdown",
      "metadata": {
        "id": "A_PTyVq4Ynaf"
      },
      "source": [
        "The cool stuf starts with more complex functions. The [Deep learning course from Andrew Ng](https://www.coursera.org/learn/neural-networks-deep-learning?specialization=deep-learning) show a way to predict [Rose-functions](https://en.wikipedia.org/wiki/Rose_(mathematics)) using a model with multiple nodes. Lets try that as well!\n",
        "\n",
        "First we need to import the data:"
      ]
    },
    {
      "cell_type": "code",
      "execution_count": 37,
      "metadata": {
        "id": "qMMal0QFYnaf"
      },
      "outputs": [],
      "source": [
        "import numpy as np\n",
        "data = np.load('./data/rose/rose.npz')\n",
        "X, Y = data['X'], data['Y']"
      ]
    },
    {
      "cell_type": "markdown",
      "metadata": {
        "id": "Zo5iuacCYnaf"
      },
      "source": [
        "To give a feel how it looks, we will first plot the rose, which has 7 petals:"
      ]
    },
    {
      "cell_type": "code",
      "execution_count": 38,
      "metadata": {
        "id": "od7DDx7YYnaf"
      },
      "outputs": [],
      "source": [
        "import matplotlib.pyplot as plt"
      ]
    },
    {
      "cell_type": "code",
      "execution_count": 39,
      "metadata": {
        "colab": {
          "base_uri": "https://localhost:8080/",
          "height": 392
        },
        "id": "kuZmpnJAYnag",
        "outputId": "1519649c-46eb-4b89-f5ae-f71ee7af30e6"
      },
      "outputs": [
        {
          "output_type": "execute_result",
          "data": {
            "text/plain": [
              "<matplotlib.collections.PathCollection at 0x7f4e3bd7fa10>"
            ]
          },
          "metadata": {},
          "execution_count": 39
        },
        {
          "output_type": "display_data",
          "data": {
            "text/plain": [
              "<Figure size 432x432 with 1 Axes>"
            ],
            "image/png": "[encoded data removed]"
          },
          "metadata": {
            "needs_background": "light"
          }
        }
      ],
      "source": [
        "fig, ax = plt.subplots(1, 1, figsize=(6, 6))\n",
        "plt.scatter(X[0,:], X[1,:], c=Y.flatten())"
      ]
    },
    {
      "cell_type": "markdown",
      "metadata": {
        "id": "UVKVjDw3Ynag"
      },
      "source": [
        "We discussed before that a logistic regression model, like we have defined in our previous example, can only divide in a line. Lets try this out, as the data is clearly not defined in a line."
      ]
    },
    {
      "cell_type": "code",
      "execution_count": 40,
      "metadata": {
        "colab": {
          "base_uri": "https://localhost:8080/"
        },
        "id": "n4JRKEVSYnag",
        "outputId": "2187afa9-3870-41ac-d628-86eb144c7762"
      },
      "outputs": [
        {
          "output_type": "execute_result",
          "data": {
            "text/plain": [
              "[\n",
              "  1 -> Dense layer (nx=2, nh=1, activation=sigmoid)\n",
              "]"
            ]
          },
          "metadata": {},
          "execution_count": 40
        }
      ],
      "source": [
        "np.random.seed(1)\n",
        "model = NeuralNetwork()\n",
        "model.addLayer(inputDimension=2, units=1, activation='sigmoid')\n",
        "model"
      ]
    },
    {
      "cell_type": "code",
      "execution_count": 41,
      "metadata": {
        "colab": {
          "base_uri": "https://localhost:8080/"
        },
        "id": "-tJDZBn4Ynag",
        "outputId": "811577ac-83ac-4f37-ef2f-b1ac8a37c364"
      },
      "outputs": [
        {
          "output_type": "stream",
          "name": "stdout",
          "text": [
            "cost: 0.6927732264810165\n"
          ]
        }
      ],
      "source": [
        "num_iterations = 1000\n",
        "for ix in range(num_iterations):\n",
        "    A = model.forward(X)\n",
        "    model.backward(A, Y)\n",
        "    model.update(learning_rate=1.2)\n",
        "    if ix % 1000 == 0:\n",
        "        print('cost:', model.cost(Y, A)) "
      ]
    },
    {
      "cell_type": "markdown",
      "metadata": {
        "id": "q37ZURKIYnag"
      },
      "source": [
        "A short piece of code to generate a contour plot and our Rose"
      ]
    },
    {
      "cell_type": "code",
      "execution_count": 42,
      "metadata": {
        "colab": {
          "base_uri": "https://localhost:8080/",
          "height": 265
        },
        "id": "UiiPh-czYnag",
        "outputId": "fb1191a4-fdeb-4148-b18d-fbf7af54293d"
      },
      "outputs": [
        {
          "output_type": "display_data",
          "data": {
            "text/plain": [
              "<Figure size 432x288 with 1 Axes>"
            ],
            "image/png": "[encoded data removed]"
          },
          "metadata": {
            "needs_background": "light"
          }
        }
      ],
      "source": [
        "def testModel(X, Y, h=0.1, f=1.05):\n",
        "    r = X.max()\n",
        "    xmesh, ymesh = np.meshgrid(np.arange(-r*f, r*f+h, h), np.arange(-r*f, r*f+h, h))\n",
        "    Z = model.forward(((np.c_[xmesh.ravel(), ymesh.ravel()]).T))\n",
        "    Z = (Z > 0.5) * 1\n",
        "    Z = Z.T.reshape(xmesh.shape)\n",
        "    plt.contourf(xmesh, ymesh, Z, cmap=plt.cm.OrRd)\n",
        "    plt.scatter(X[0, :], X[1, :], c=Y.flatten(), cmap=plt.cm.OrRd)\n",
        "testModel(X, Y)"
      ]
    },
    {
      "cell_type": "markdown",
      "metadata": {
        "id": "JpUgbGGdYnag"
      },
      "source": [
        "Definitely not a great fit and clearly a line. Now lets add another layer with four units to the model, with the last layer being the same sigmoid layer. The activation function for this model we keep similar to the one from Andrew, which was a tanh."
      ]
    },
    {
      "cell_type": "code",
      "execution_count": 43,
      "metadata": {
        "colab": {
          "base_uri": "https://localhost:8080/"
        },
        "id": "u8Gg9vGBYnah",
        "outputId": "1c02a6b4-520f-472a-97d4-65d3549f1089"
      },
      "outputs": [
        {
          "output_type": "execute_result",
          "data": {
            "text/plain": [
              "[\n",
              "  1 -> Dense layer (nx=2, nh=4, activation=tanh)\n",
              "  2 -> Dense layer (nx=4, nh=1, activation=sigmoid)\n",
              "]"
            ]
          },
          "metadata": {},
          "execution_count": 43
        }
      ],
      "source": [
        "np.random.seed(1)\n",
        "\n",
        "model = NeuralNetwork()\n",
        "model.addLayer(inputDimension=2, units=4, activation='tanh')\n",
        "model.addLayer(units=1, activation='sigmoid')\n",
        "model"
      ]
    },
    {
      "cell_type": "code",
      "execution_count": 44,
      "metadata": {
        "colab": {
          "base_uri": "https://localhost:8080/"
        },
        "id": "AST-GxmYYnah",
        "outputId": "cb4ab814-f2eb-4104-c936-1594f0c99380"
      },
      "outputs": [
        {
          "output_type": "stream",
          "name": "stdout",
          "text": [
            "cost: 0.6931058695708833\n",
            "cost: 0.01872511046013704\n",
            "cost: 0.01096037547619666\n",
            "cost: 0.0077232644078200656\n"
          ]
        }
      ],
      "source": [
        "num_iterations = 4000\n",
        "for ix in range(num_iterations):\n",
        "    A = model.forward(X)\n",
        "    model.backward(A, Y)\n",
        "    model.update(learning_rate=1.2)\n",
        "    if ix % 1000 == 0:\n",
        "        print('cost:', model.cost(Y, A)) "
      ]
    },
    {
      "cell_type": "code",
      "execution_count": 45,
      "metadata": {
        "colab": {
          "base_uri": "https://localhost:8080/",
          "height": 265
        },
        "id": "ksAoyXP1Ynah",
        "outputId": "afab7b7a-c179-42e8-b7f9-53b0d0f38214"
      },
      "outputs": [
        {
          "output_type": "display_data",
          "data": {
            "text/plain": [
              "<Figure size 432x288 with 1 Axes>"
            ],
            "image/png": "[encoded data removed]"
          },
          "metadata": {
            "needs_background": "light"
          }
        }
      ],
      "source": [
        "testModel(X,Y)"
      ]
    },
    {
      "cell_type": "markdown",
      "metadata": {
        "id": "1o_C8CDbYnah"
      },
      "source": [
        "This is something that really amazes me. Just a tiny layer more and we have the power to learn this much more complex function. Really great stuff!"
      ]
    },
    {
      "cell_type": "markdown",
      "metadata": {
        "id": "nJYtVl06a1Fu"
      },
      "source": [
        "## Q2: We will now implement customization via Keras as the examples above are specific to their respective datasets and are for example only to work through for learning purposes only. They will not properly run if customized (30 points)"
      ]
    },
    {
      "cell_type": "code",
      "execution_count": 46,
      "metadata": {
        "colab": {
          "base_uri": "https://localhost:8080/",
          "height": 90
        },
        "id": "cZF8N-qpbJ-M",
        "outputId": "85306d56-4c11-4f6a-a75d-40d521c9f31e"
      },
      "outputs": [
        {
          "output_type": "display_data",
          "data": {
            "text/plain": [
              "(688, 2)"
            ]
          },
          "metadata": {}
        },
        {
          "output_type": "display_data",
          "data": {
            "text/plain": [
              "(688, 1)"
            ]
          },
          "metadata": {}
        },
        {
          "output_type": "display_data",
          "data": {
            "text/plain": [
              "(550, 2)"
            ]
          },
          "metadata": {}
        },
        {
          "output_type": "display_data",
          "data": {
            "text/plain": [
              "(550, 1)"
            ]
          },
          "metadata": {}
        }
      ],
      "source": [
        "import numpy as np\n",
        "data = np.load('./data/rose/rose.npz')\n",
        "X, y = data['X'].transpose(), data['Y'].transpose()\n",
        "display(X.shape)\n",
        "display(y.shape)\n",
        "\n",
        "X_train, X_test, y_train, y_test = train_test_split(X, y, test_size=0.2, random_state=21)\n",
        "display(X_train.shape)\n",
        "display(y_train.shape)\n",
        "\n",
        "# Let's initialize our model\n",
        "# moved line to next block so model resets when testing different layers"
      ]
    },
    {
      "cell_type": "markdown",
      "metadata": {
        "id": "IaSeK8fpYnah"
      },
      "source": [
        "### 2.1) Using the example above, try different number of nodes(units) and different activation functions. How does your loss change? (10 points) "
      ]
    },
    {
      "cell_type": "code",
      "execution_count": 47,
      "metadata": {
        "colab": {
          "base_uri": "https://localhost:8080/"
        },
        "id": "CDjN-0Yk6AP2",
        "outputId": "3e4a2c3a-634a-4947-8748-3dbdd649af05"
      },
      "outputs": [
        {
          "output_type": "stream",
          "name": "stdout",
          "text": [
            "Epoch 1/10\n",
            "550/550 [==============================] - 2s 2ms/step - loss: 0.7081 - accuracy: 0.6709 - precision_1: 0.6245 - recall_1: 0.6475\n",
            "Epoch 2/10\n",
            "550/550 [==============================] - 1s 2ms/step - loss: 0.6330 - accuracy: 0.7000 - precision_1: 0.6756 - recall_1: 0.6230\n",
            "Epoch 3/10\n",
            "550/550 [==============================] - 1s 2ms/step - loss: 0.5785 - accuracy: 0.6945 - precision_1: 0.6743 - recall_1: 0.6025\n",
            "Epoch 4/10\n",
            "550/550 [==============================] - 1s 2ms/step - loss: 0.5311 - accuracy: 0.6982 - precision_1: 0.6840 - recall_1: 0.5943\n",
            "Epoch 5/10\n",
            "550/550 [==============================] - 1s 2ms/step - loss: 0.4862 - accuracy: 0.7636 - precision_1: 0.8239 - recall_1: 0.5943\n",
            "Epoch 6/10\n",
            "550/550 [==============================] - 1s 2ms/step - loss: 0.4443 - accuracy: 0.8600 - precision_1: 0.9418 - recall_1: 0.7295\n",
            "Epoch 7/10\n",
            "550/550 [==============================] - 1s 2ms/step - loss: 0.4046 - accuracy: 0.9055 - precision_1: 0.9898 - recall_1: 0.7951\n",
            "Epoch 8/10\n",
            "550/550 [==============================] - 1s 2ms/step - loss: 0.3676 - accuracy: 0.9255 - precision_1: 1.0000 - recall_1: 0.8320\n",
            "Epoch 9/10\n",
            "550/550 [==============================] - 1s 2ms/step - loss: 0.3336 - accuracy: 0.9327 - precision_1: 1.0000 - recall_1: 0.8484\n",
            "Epoch 10/10\n",
            "550/550 [==============================] - 1s 2ms/step - loss: 0.3022 - accuracy: 0.9418 - precision_1: 1.0000 - recall_1: 0.8689\n"
          ]
        },
        {
          "output_type": "execute_result",
          "data": {
            "text/plain": [
              "<keras.callbacks.History at 0x7f4e3ebce850>"
            ]
          },
          "metadata": {},
          "execution_count": 47
        }
      ],
      "source": [
        "model = Sequential() # Initialising the ANN\n",
        "model.add(Dense(4, activation='tanh'))\n",
        "model.add(Dense(1, activation='sigmoid'))\n",
        "model.compile(optimizer = 'rmsprop', loss = 'binary_crossentropy', metrics=['accuracy', Precision(), Recall()])\n",
        "model.fit(X_train, y_train, batch_size=1, epochs=10)"
      ]
    },
    {
      "cell_type": "code",
      "execution_count": 48,
      "metadata": {
        "colab": {
          "base_uri": "https://localhost:8080/"
        },
        "id": "1xsjksuM80Zu",
        "outputId": "93487af1-ab30-42fd-e7fc-2dafc294ee2b"
      },
      "outputs": [
        {
          "output_type": "stream",
          "name": "stdout",
          "text": [
            "Epoch 1/10\n",
            "550/550 [==============================] - 2s 2ms/step - loss: 0.7415 - accuracy: 0.5764 - precision_2: 0.5214 - recall_2: 0.5492\n",
            "Epoch 2/10\n",
            "550/550 [==============================] - 1s 2ms/step - loss: 0.5658 - accuracy: 0.6964 - precision_2: 0.6758 - recall_2: 0.6066\n",
            "Epoch 3/10\n",
            "550/550 [==============================] - 1s 2ms/step - loss: 0.5071 - accuracy: 0.7709 - precision_2: 0.8554 - recall_2: 0.5820\n",
            "Epoch 4/10\n",
            "550/550 [==============================] - 1s 2ms/step - loss: 0.4569 - accuracy: 0.8618 - precision_2: 0.9468 - recall_2: 0.7295\n",
            "Epoch 5/10\n",
            "550/550 [==============================] - 1s 2ms/step - loss: 0.4058 - accuracy: 0.8945 - precision_2: 0.9429 - recall_2: 0.8115\n",
            "Epoch 6/10\n",
            "550/550 [==============================] - 1s 2ms/step - loss: 0.3582 - accuracy: 0.9255 - precision_2: 0.9903 - recall_2: 0.8402\n",
            "Epoch 7/10\n",
            "550/550 [==============================] - 1s 2ms/step - loss: 0.3160 - accuracy: 0.9364 - precision_2: 0.9772 - recall_2: 0.8770\n",
            "Epoch 8/10\n",
            "550/550 [==============================] - 1s 2ms/step - loss: 0.2802 - accuracy: 0.9491 - precision_2: 0.9909 - recall_2: 0.8934\n",
            "Epoch 9/10\n",
            "550/550 [==============================] - 1s 2ms/step - loss: 0.2501 - accuracy: 0.9527 - precision_2: 1.0000 - recall_2: 0.8934\n",
            "Epoch 10/10\n",
            "550/550 [==============================] - 1s 2ms/step - loss: 0.2246 - accuracy: 0.9582 - precision_2: 1.0000 - recall_2: 0.9057\n"
          ]
        },
        {
          "output_type": "execute_result",
          "data": {
            "text/plain": [
              "<keras.callbacks.History at 0x7f4e3e9934d0>"
            ]
          },
          "metadata": {},
          "execution_count": 48
        }
      ],
      "source": [
        "model2 = Sequential() # Initialising the ANN\n",
        "model2.add(Dense(6, activation='tanh'))\n",
        "model2.add(Dense(1, activation='sigmoid'))\n",
        "model2.compile(optimizer = 'rmsprop', loss = 'binary_crossentropy', metrics=['accuracy', Precision(), Recall()])\n",
        "model2.fit(X_train, y_train, batch_size=1, epochs=10)"
      ]
    },
    {
      "cell_type": "code",
      "execution_count": 49,
      "metadata": {
        "colab": {
          "base_uri": "https://localhost:8080/"
        },
        "id": "5ppY-2CH_O54",
        "outputId": "2412c3a8-9e0d-487e-b5aa-e101f3978422"
      },
      "outputs": [
        {
          "output_type": "stream",
          "name": "stdout",
          "text": [
            "Epoch 1/10\n",
            "550/550 [==============================] - 2s 2ms/step - loss: 1.0689 - accuracy: 0.6927 - precision_3: 0.8571 - recall_3: 0.3689\n",
            "Epoch 2/10\n",
            "550/550 [==============================] - 1s 2ms/step - loss: 0.8620 - accuracy: 0.6673 - precision_3: 0.6993 - recall_3: 0.4385\n",
            "Epoch 3/10\n",
            "550/550 [==============================] - 1s 2ms/step - loss: 0.7492 - accuracy: 0.6636 - precision_3: 0.6746 - recall_3: 0.4672\n",
            "Epoch 4/10\n",
            "550/550 [==============================] - 1s 2ms/step - loss: 0.6789 - accuracy: 0.6509 - precision_3: 0.6494 - recall_3: 0.4631\n",
            "Epoch 5/10\n",
            "550/550 [==============================] - 1s 2ms/step - loss: 0.6353 - accuracy: 0.6582 - precision_3: 0.6489 - recall_3: 0.5000\n",
            "Epoch 6/10\n",
            "550/550 [==============================] - 1s 2ms/step - loss: 0.6103 - accuracy: 0.6600 - precision_3: 0.6390 - recall_3: 0.5369\n",
            "Epoch 7/10\n",
            "550/550 [==============================] - 1s 2ms/step - loss: 0.5944 - accuracy: 0.6673 - precision_3: 0.6488 - recall_3: 0.5451\n",
            "Epoch 8/10\n",
            "550/550 [==============================] - 1s 2ms/step - loss: 0.5819 - accuracy: 0.6764 - precision_3: 0.6618 - recall_3: 0.5533\n",
            "Epoch 9/10\n",
            "550/550 [==============================] - 1s 2ms/step - loss: 0.5734 - accuracy: 0.6727 - precision_3: 0.6553 - recall_3: 0.5533\n",
            "Epoch 10/10\n",
            "550/550 [==============================] - 1s 2ms/step - loss: 0.5639 - accuracy: 0.6691 - precision_3: 0.6435 - recall_3: 0.5697\n"
          ]
        },
        {
          "output_type": "execute_result",
          "data": {
            "text/plain": [
              "<keras.callbacks.History at 0x7f4e3b4d6c90>"
            ]
          },
          "metadata": {},
          "execution_count": 49
        }
      ],
      "source": [
        "model_relu4 = Sequential()\n",
        "model_relu4.add(Dense(4, activation='relu'))\n",
        "model_relu4.add(Dense(1, activation='sigmoid'))\n",
        "model_relu4.compile(optimizer = 'rmsprop', loss = 'binary_crossentropy', metrics=['accuracy', Precision(), Recall()])\n",
        "model_relu4.fit(X_train, y_train, batch_size=1, epochs=10)"
      ]
    },
    {
      "cell_type": "markdown",
      "metadata": {
        "id": "KGg2DfN5Aez3"
      },
      "source": [
        "As we added more nodes to the tanh model, we saw our loss decrease. When we changed the activation function to relu, our loss increased greatly. The error will be acknowledged in the next block."
      ]
    },
    {
      "cell_type": "markdown",
      "metadata": {
        "id": "aVKN7RMLYnah"
      },
      "source": [
        "### 2.2) Calculate your new error for 2 different models using classification report. Also, using the metrics, explain why you see the same or why you see a different error. (10 points) "
      ]
    },
    {
      "cell_type": "markdown",
      "metadata": {
        "id": "lWJnKzG48gxT"
      },
      "source": [
        "We tried using relu activation for the first layer with 4 nodes and both had a much lower accuracy and higher loss than with tanh. We also tried tanh with 6 units for the first layer, and that decreased the training loss but also decreased the model accuracy and precision, while slightly increasing recall. This is a sign of overfitting, as we reduced our loss at the cost of our predictive accuracy. In addition, the lower precision and increased recall indicate that our model is predicting too many observations as true. "
      ]
    },
    {
      "cell_type": "code",
      "execution_count": 50,
      "metadata": {
        "colab": {
          "base_uri": "https://localhost:8080/"
        },
        "id": "nvi8QHpjYnah",
        "outputId": "4f68039b-b1ee-4cd8-d63d-643e77370dea"
      },
      "outputs": [
        {
          "output_type": "stream",
          "name": "stdout",
          "text": [
            "5/5 [==============================] - 0s 2ms/step\n",
            "              precision    recall  f1-score   support\n",
            "\n",
            "           0       0.93      1.00      0.97        86\n",
            "           1       1.00      0.88      0.94        52\n",
            "\n",
            "    accuracy                           0.96       138\n",
            "   macro avg       0.97      0.94      0.95       138\n",
            "weighted avg       0.96      0.96      0.96       138\n",
            "\n"
          ]
        }
      ],
      "source": [
        "from sklearn.metrics import classification_report\n",
        "y_test_pred = model.predict(X_test)\n",
        "print( classification_report(y_test, [0 if a < 0.5 else 1 for a in y_test_pred]) )"
      ]
    },
    {
      "cell_type": "code",
      "execution_count": 51,
      "metadata": {
        "colab": {
          "base_uri": "https://localhost:8080/"
        },
        "id": "n2tOALVC_3UL",
        "outputId": "ecd29409-d5b1-4cbe-bd42-1d1bacc0e18a"
      },
      "outputs": [
        {
          "output_type": "stream",
          "name": "stdout",
          "text": [
            "5/5 [==============================] - 0s 2ms/step\n",
            "              precision    recall  f1-score   support\n",
            "\n",
            "           0       0.95      1.00      0.97        86\n",
            "           1       1.00      0.90      0.95        52\n",
            "\n",
            "    accuracy                           0.96       138\n",
            "   macro avg       0.97      0.95      0.96       138\n",
            "weighted avg       0.97      0.96      0.96       138\n",
            "\n"
          ]
        }
      ],
      "source": [
        "y_test_pred2 = model2.predict(X_test)\n",
        "print( classification_report(y_test, [0 if a < 0.5 else 1 for a in y_test_pred2]))"
      ]
    },
    {
      "cell_type": "code",
      "execution_count": 52,
      "metadata": {
        "colab": {
          "base_uri": "https://localhost:8080/"
        },
        "id": "dbHks8YHATx5",
        "outputId": "d24721a7-c18f-48c3-d8ac-8f13f54c2580"
      },
      "outputs": [
        {
          "output_type": "stream",
          "name": "stdout",
          "text": [
            "5/5 [==============================] - 0s 3ms/step\n",
            "              precision    recall  f1-score   support\n",
            "\n",
            "           0       0.70      0.71      0.71        86\n",
            "           1       0.51      0.50      0.50        52\n",
            "\n",
            "    accuracy                           0.63       138\n",
            "   macro avg       0.61      0.60      0.61       138\n",
            "weighted avg       0.63      0.63      0.63       138\n",
            "\n"
          ]
        }
      ],
      "source": [
        "y_test_pred_relu4 = model_relu4.predict(X_test)\n",
        "print( classification_report(y_test, [0 if a < 0.5 else 1 for a in y_test_pred_relu4]))"
      ]
    },
    {
      "cell_type": "markdown",
      "metadata": {
        "id": "TvcIw3pHYnah"
      },
      "source": [
        "### 2.3) Choose your best model! Now plot the new results using the plotting example shown above but using our newly trained best/coolest model. (10 points) "
      ]
    },
    {
      "cell_type": "code",
      "execution_count": 53,
      "metadata": {
        "id": "gK14EFkPYnai"
      },
      "outputs": [],
      "source": [
        "# This is now working thanks to a student! It is a freebie question now, but feel free to display your results\n",
        "def testModelKeras(X, y, model, h=0.1, f=1.05):\n",
        "    r = X.max()\n",
        "    xmesh, ymesh = np.meshgrid(np.arange(-r*f, r*f+h, h), np.arange(-r*f, r*f+h, h))\n",
        "    Z = model.predict(((np.c_[xmesh.ravel(), ymesh.ravel()])))\n",
        "    Z = (Z > 0.5) * 1\n",
        "    Z = Z.T.reshape(xmesh.shape)\n",
        "    plt.contourf(xmesh, ymesh, Z, cmap=plt.cm.OrRd)\n",
        "    plt.scatter(X[:,0], X[:,1], c=y.flatten().T, cmap=plt.cm.OrRd)"
      ]
    },
    {
      "cell_type": "code",
      "execution_count": 54,
      "metadata": {
        "colab": {
          "base_uri": "https://localhost:8080/",
          "height": 283
        },
        "id": "IZKSqoGtiRHQ",
        "outputId": "4214f986-7dd0-43cb-9057-5d8a1ea4bae2"
      },
      "outputs": [
        {
          "output_type": "stream",
          "name": "stdout",
          "text": [
            "226/226 [==============================] - 0s 1ms/step\n"
          ]
        },
        {
          "output_type": "display_data",
          "data": {
            "text/plain": [
              "<Figure size 432x288 with 1 Axes>"
            ],
            "image/png": "[encoded data removed]"
          },
          "metadata": {
            "needs_background": "light"
          }
        }
      ],
      "source": [
        "# Plot using the following function call: testModelKeras(X, y, yourmodel)\n",
        "testModelKeras(X, y, model)"
      ]
    },
    {
      "cell_type": "markdown",
      "metadata": {
        "id": "oRRH5UW1Ynai"
      },
      "source": [
        "## 3) Cats vs not cats"
      ]
    },
    {
      "cell_type": "markdown",
      "metadata": {
        "id": "RfHJ4U5UYnai"
      },
      "source": [
        "In the same course from Andrew, they pointed out that there is a terrible shortage of cat-detectors on the internet. Therefore, our class should detect cats in style! Lets download the same dataset. For details, please check out Andrew's Course, which is big fun!"
      ]
    },
    {
      "cell_type": "code",
      "execution_count": 55,
      "metadata": {
        "colab": {
          "base_uri": "https://localhost:8080/",
          "height": 54
        },
        "id": "1oU-QdGGYnai",
        "outputId": "fca962f2-41ea-49a9-ab99-6dcc1879d518"
      },
      "outputs": [
        {
          "output_type": "display_data",
          "data": {
            "text/plain": [
              "(12288, 209)"
            ]
          },
          "metadata": {}
        },
        {
          "output_type": "display_data",
          "data": {
            "text/plain": [
              "(1, 209)"
            ]
          },
          "metadata": {}
        }
      ],
      "source": [
        "data = np.load('./data/cats/cats.npz')\n",
        "X_train, y_train = data['Xtrain'], data['Ytrain']\n",
        "X_test, y_test = data['Xtest'], data['Ytest']\n",
        "display(X_train.shape)\n",
        "display(y_train.shape)"
      ]
    },
    {
      "cell_type": "code",
      "execution_count": 55,
      "metadata": {
        "id": "iIMeTSEFBD-l"
      },
      "outputs": [],
      "source": []
    },
    {
      "cell_type": "markdown",
      "metadata": {
        "id": "Z94ZPG6MYnai"
      },
      "source": [
        "Same functions as before."
      ]
    },
    {
      "cell_type": "code",
      "execution_count": 56,
      "metadata": {
        "id": "CMvK3YERYnaj"
      },
      "outputs": [],
      "source": [
        "def roundValue(A):\n",
        "    return np.uint8( A > 0.5)\n",
        "\n",
        "def accuracy(yhat, Y):\n",
        "    return round(np.sum(yhat==Y) / len(yhat.flatten()) * 1000) / 10"
      ]
    },
    {
      "cell_type": "markdown",
      "metadata": {
        "id": "J6vjLs7pYnaj"
      },
      "source": [
        "The model will be the same as the two layer model from the course. first layer has 7 units and a Relu activation function. Second layer is the sigmoid cat/no-cat layer."
      ]
    },
    {
      "cell_type": "code",
      "execution_count": 57,
      "metadata": {
        "colab": {
          "base_uri": "https://localhost:8080/"
        },
        "id": "8at1sjWEYnaj",
        "outputId": "f346cd10-034e-46c2-fadd-94a4f3333242"
      },
      "outputs": [
        {
          "output_type": "execute_result",
          "data": {
            "text/plain": [
              "[\n",
              "  1 -> Dense layer (nx=12288, nh=7, activation=relu)\n",
              "  2 -> Dense layer (nx=7, nh=1, activation=sigmoid)\n",
              "]"
            ]
          },
          "metadata": {},
          "execution_count": 57
        }
      ],
      "source": [
        "nx = X_train.shape[0]\n",
        "\n",
        "np.random.seed(1)\n",
        "\n",
        "model = NeuralNetwork()\n",
        "model.addLayer(inputDimension=nx, units=7, activation='relu')\n",
        "model.addLayer(units=1, activation='sigmoid')\n",
        "model"
      ]
    },
    {
      "cell_type": "code",
      "execution_count": 58,
      "metadata": {
        "colab": {
          "base_uri": "https://localhost:8080/"
        },
        "id": "FiDOXq2rYnaj",
        "outputId": "edbd4f0b-dc09-4486-90e7-467afcee2a10"
      },
      "outputs": [
        {
          "output_type": "stream",
          "name": "stdout",
          "text": [
            "cost: 0.5638451365986756 \taccuracy: 65.6%\n",
            "cost: 0.5020981427480248 \taccuracy: 66.5%\n",
            "cost: 0.4529594637416238 \taccuracy: 81.3%\n",
            "cost: 0.39260693267512303 \taccuracy: 77.5%\n",
            "cost: 0.4667194566908362 \taccuracy: 75.6%\n",
            "cost: 0.4269087148058202 \taccuracy: 75.6%\n",
            "cost: 0.19321772197055517 \taccuracy: 93.3%\n",
            "cost: 0.15683008303901028 \taccuracy: 96.2%\n",
            "cost: 0.07457567808046689 \taccuracy: 98.6%\n",
            "cost: 0.0667065196173597 \taccuracy: 98.6%\n"
          ]
        }
      ],
      "source": [
        "num_iterations = 1000\n",
        "for ix in range(1, num_iterations+1):\n",
        "    A = model.forward(X_train)\n",
        "    model.backward(A, y_train)\n",
        "    model.update(learning_rate=0.03)\n",
        "    if ix % 100 == 0:\n",
        "        yhat_test = roundValue(A)\n",
        "        print('cost:', model.cost(y_train, A), f'\\taccuracy: {accuracy(yhat_test, y_train)}%')     "
      ]
    },
    {
      "cell_type": "markdown",
      "metadata": {
        "id": "NjVsxQrMYnak"
      },
      "source": [
        "Amazing accuracy. But we of course all know we should check this with a proper test set:"
      ]
    },
    {
      "cell_type": "code",
      "execution_count": 59,
      "metadata": {
        "colab": {
          "base_uri": "https://localhost:8080/"
        },
        "id": "cIYb-ebSYnak",
        "outputId": "0128bb07-4502-47ba-9b93-dff8d91a44fd"
      },
      "outputs": [
        {
          "output_type": "execute_result",
          "data": {
            "text/plain": [
              "72.0"
            ]
          },
          "metadata": {},
          "execution_count": 59
        }
      ],
      "source": [
        "A = model.forward(X_test)\n",
        "yhat_test = roundValue(A)\n",
        "acc = accuracy(yhat_test, y_test)\n",
        "acc"
      ]
    },
    {
      "cell_type": "markdown",
      "metadata": {
        "id": "qv1MjXhlYnak"
      },
      "source": [
        "An accuracy of 74% is definitely not bad for such a simple model which only works on pixel values. For the fun of it, lets look at some samples:"
      ]
    },
    {
      "cell_type": "code",
      "execution_count": 60,
      "metadata": {
        "colab": {
          "base_uri": "https://localhost:8080/",
          "height": 326
        },
        "id": "L0exh7oXYnak",
        "outputId": "47380513-93dc-4d20-cc1c-b502a7d4d8c3"
      },
      "outputs": [
        {
          "output_type": "display_data",
          "data": {
            "text/plain": [
              "<Figure size 1152x576 with 3 Axes>"
            ],
            "image/png": "[encoded data removed]"
          },
          "metadata": {
            "needs_background": "light"
          }
        }
      ],
      "source": [
        "n = 3\n",
        "\n",
        "imgs = X_test.T.reshape([50, 64, 64, 3])\n",
        "\n",
        "fig, ax = plt.subplots(1, n, figsize=(16,8))\n",
        "for ix in range(n):\n",
        "    num = np.random.randint(imgs.shape[0])\n",
        "    ax[ix].imshow(imgs[num])\n",
        "    if yhat.flatten()[num] == 0:\n",
        "        ax[ix].set_title('This is clearly not a cat')\n",
        "    else:\n",
        "        ax[ix].set_title('Yup! it\\'s a cat')\n"
      ]
    },
    {
      "cell_type": "markdown",
      "metadata": {
        "id": "KNymHxiNiY4S"
      },
      "source": [
        "## Q3: Your turn! Let's do this!!! (50 points)"
      ]
    },
    {
      "cell_type": "code",
      "execution_count": 61,
      "metadata": {
        "colab": {
          "base_uri": "https://localhost:8080/",
          "height": 90
        },
        "id": "UVrE_ZFuiarQ",
        "outputId": "36367ee8-ee47-4bc5-faf2-f0afdd57e290"
      },
      "outputs": [
        {
          "output_type": "display_data",
          "data": {
            "text/plain": [
              "(209, 64, 64, 3)"
            ]
          },
          "metadata": {}
        },
        {
          "output_type": "display_data",
          "data": {
            "text/plain": [
              "(209, 1)"
            ]
          },
          "metadata": {}
        },
        {
          "output_type": "display_data",
          "data": {
            "text/plain": [
              "(50, 64, 64, 3)"
            ]
          },
          "metadata": {}
        },
        {
          "output_type": "display_data",
          "data": {
            "text/plain": [
              "(50, 1)"
            ]
          },
          "metadata": {}
        }
      ],
      "source": [
        "import numpy as np\n",
        "from sklearn.model_selection import train_test_split\n",
        "from keras.models import Sequential\n",
        "from keras.layers import Dense\n",
        "\n",
        "data = np.load('./data/cats/cats.npz')\n",
        "X_train, y_train = data['Xtrain'].transpose(), data['Ytrain'].transpose()\n",
        "X_test, y_test = data['Xtest'].transpose(), data['Ytest'].transpose()\n",
        "\n",
        "# Let's reshape your data here from a 1D vector to a 2D vector \n",
        "# This represents a grid of pixel coordinates and 3 values to represent RGB\n",
        "# Note our RGB values have already been scaled using minmaxscalar as RGB values range from 0, 255\n",
        "# X_train.shape[0] returns our number of observations in X_train\n",
        "X_train = X_train.reshape([X_train.shape[0], 64, 64, 3])\n",
        "X_test = X_test.reshape([X_test.shape[0], 64, 64, 3])\n",
        "\n",
        "# Let's Display our shapes\n",
        "display(X_train.shape)\n",
        "display(y_train.shape)\n",
        "display(X_test.shape)\n",
        "display(y_test.shape)"
      ]
    },
    {
      "cell_type": "code",
      "execution_count": 62,
      "metadata": {
        "colab": {
          "base_uri": "https://localhost:8080/"
        },
        "id": "Gh4B3f-GFhBG",
        "outputId": "072b9a66-216b-4edf-e953-efab655cf1ad"
      },
      "outputs": [
        {
          "output_type": "execute_result",
          "data": {
            "text/plain": [
              "(64, 64, 3)"
            ]
          },
          "metadata": {},
          "execution_count": 62
        }
      ],
      "source": [
        "X_train[0].shape"
      ]
    },
    {
      "cell_type": "markdown",
      "metadata": {
        "id": "IrCvQs6NYnak"
      },
      "source": [
        "### 3.1) Same as before, build a new model with different number of hidden layers, nodes and activation functions. Describe reason for any similarity or difference (30 points) "
      ]
    },
    {
      "cell_type": "code",
      "execution_count": 63,
      "metadata": {
        "id": "yKmnurZaG77d"
      },
      "outputs": [],
      "source": [
        "X_train_flat = np.asarray([row.flatten() for row in X_train])"
      ]
    },
    {
      "cell_type": "code",
      "execution_count": 64,
      "metadata": {
        "colab": {
          "base_uri": "https://localhost:8080/"
        },
        "id": "wmdATv6tYnak",
        "outputId": "ff7bb204-9b9d-43b1-f5e3-48218e1124ae"
      },
      "outputs": [
        {
          "output_type": "stream",
          "name": "stdout",
          "text": [
            "Epoch 1/10\n",
            "209/209 [==============================] - 1s 3ms/step - loss: 1.2255 - accuracy: 0.3971 - precision_4: 0.3533 - recall_4: 0.9028\n",
            "Epoch 2/10\n",
            "209/209 [==============================] - 1s 3ms/step - loss: 0.7053 - accuracy: 0.6555 - precision_4: 0.0000e+00 - recall_4: 0.0000e+00\n",
            "Epoch 3/10\n",
            "209/209 [==============================] - 1s 3ms/step - loss: 0.6917 - accuracy: 0.6364 - precision_4: 0.0000e+00 - recall_4: 0.0000e+00\n",
            "Epoch 4/10\n",
            "209/209 [==============================] - 1s 3ms/step - loss: 0.6950 - accuracy: 0.6555 - precision_4: 0.0000e+00 - recall_4: 0.0000e+00\n",
            "Epoch 5/10\n",
            "209/209 [==============================] - 1s 2ms/step - loss: 0.7027 - accuracy: 0.6555 - precision_4: 0.5000 - recall_4: 0.0139\n",
            "Epoch 6/10\n",
            "209/209 [==============================] - 1s 2ms/step - loss: 0.6964 - accuracy: 0.6220 - precision_4: 0.4000 - recall_4: 0.1944\n",
            "Epoch 7/10\n",
            "209/209 [==============================] - 1s 2ms/step - loss: 0.7040 - accuracy: 0.5885 - precision_4: 0.3478 - recall_4: 0.2222\n",
            "Epoch 8/10\n",
            "209/209 [==============================] - 1s 2ms/step - loss: 0.6493 - accuracy: 0.6507 - precision_4: 0.4615 - recall_4: 0.0833\n",
            "Epoch 9/10\n",
            "209/209 [==============================] - 1s 3ms/step - loss: 0.6394 - accuracy: 0.6794 - precision_4: 0.8571 - recall_4: 0.0833\n",
            "Epoch 10/10\n",
            "209/209 [==============================] - 1s 3ms/step - loss: 0.6719 - accuracy: 0.5789 - precision_4: 0.3462 - recall_4: 0.2500\n"
          ]
        },
        {
          "output_type": "execute_result",
          "data": {
            "text/plain": [
              "<keras.callbacks.History at 0x7f4e3f0d6750>"
            ]
          },
          "metadata": {},
          "execution_count": 64
        }
      ],
      "source": [
        "# Try using different iterations using a simple layout like above. 10, 100, 1000 epochs. \n",
        "# What happens with your loss?\n",
        "# Let's initialize our model\n",
        "model = Sequential() # Initialising the ANN\n",
        "\n",
        "# build your model and compile here:\n",
        "model.add(Dense(6, activation='tanh'))\n",
        "model.add(Dense(1, activation='sigmoid'))\n",
        "model.compile(optimizer='rmsprop', loss='binary_crossentropy', \n",
        "              metrics=['accuracy', Precision(), Recall()])\n",
        "model.fit(X_train_flat, y_train, batch_size=1, epochs=10)"
      ]
    },
    {
      "cell_type": "markdown",
      "source": [
        "First we tried a similar structure to the original example but with tanh activation instead of relu, this doesn't have the highest accuracy so we will try others."
      ],
      "metadata": {
        "id": "LPXx1E7JPZZZ"
      }
    },
    {
      "cell_type": "code",
      "execution_count": 65,
      "metadata": {
        "colab": {
          "base_uri": "https://localhost:8080/"
        },
        "id": "VGUrbX9ysgJJ",
        "outputId": "e9171232-2490-45f0-b1ef-fd5997599dff"
      },
      "outputs": [
        {
          "output_type": "stream",
          "name": "stdout",
          "text": [
            "Epoch 1/10\n",
            "209/209 [==============================] - 1s 3ms/step - loss: 1.1170 - accuracy: 0.4785 - precision_5: 0.3419 - recall_5: 0.5556\n",
            "Epoch 2/10\n",
            "209/209 [==============================] - 1s 3ms/step - loss: 0.7646 - accuracy: 0.6555 - precision_5: 0.0000e+00 - recall_5: 0.0000e+00\n",
            "Epoch 3/10\n",
            "209/209 [==============================] - 1s 2ms/step - loss: 0.6887 - accuracy: 0.6555 - precision_5: 0.0000e+00 - recall_5: 0.0000e+00\n",
            "Epoch 4/10\n",
            "209/209 [==============================] - 1s 3ms/step - loss: 0.6863 - accuracy: 0.6555 - precision_5: 0.0000e+00 - recall_5: 0.0000e+00\n",
            "Epoch 5/10\n",
            "209/209 [==============================] - 1s 3ms/step - loss: 0.6620 - accuracy: 0.6555 - precision_5: 0.0000e+00 - recall_5: 0.0000e+00\n",
            "Epoch 6/10\n",
            "209/209 [==============================] - 1s 3ms/step - loss: 0.6566 - accuracy: 0.6459 - precision_5: 0.0000e+00 - recall_5: 0.0000e+00\n",
            "Epoch 7/10\n",
            "209/209 [==============================] - 1s 3ms/step - loss: 0.7180 - accuracy: 0.4450 - precision_5: 0.3254 - recall_5: 0.5694\n",
            "Epoch 8/10\n",
            "209/209 [==============================] - 1s 3ms/step - loss: 0.6667 - accuracy: 0.6316 - precision_5: 0.4138 - recall_5: 0.1667\n",
            "Epoch 9/10\n",
            "209/209 [==============================] - 1s 2ms/step - loss: 0.6832 - accuracy: 0.6316 - precision_5: 0.2222 - recall_5: 0.0278\n",
            "Epoch 10/10\n",
            "209/209 [==============================] - 1s 2ms/step - loss: 0.6690 - accuracy: 0.6555 - precision_5: 0.5000 - recall_5: 0.0139    \n"
          ]
        },
        {
          "output_type": "execute_result",
          "data": {
            "text/plain": [
              "<keras.callbacks.History at 0x7f4e38aef390>"
            ]
          },
          "metadata": {},
          "execution_count": 65
        }
      ],
      "source": [
        "# Try using different layers and activation function with different number of nodes\n",
        "# Let's initialize our model\n",
        "from keras.layers import Flatten\n",
        "model = Sequential() # Initialising the ANN\n",
        "\n",
        "# build your model and compile here:\n",
        "model.add(Flatten(input_shape=X_train[0].shape))\n",
        "model.add(Dense(6, activation='tanh'))\n",
        "model.add(Dense(1, activation='sigmoid'))\n",
        "model.compile(optimizer='rmsprop', loss='binary_crossentropy', \n",
        "              metrics=['accuracy', Precision(), Recall()])\n",
        "model.fit(X_train, y_train, batch_size=1, epochs=10)"
      ]
    },
    {
      "cell_type": "markdown",
      "metadata": {
        "id": "-8WvMrPgJtas"
      },
      "source": [
        "This was a test of whether using the built in flatten was any different than flattening first manually. There's a slight difference, but it could just be due to random chance. Now, we will test different structures."
      ]
    },
    {
      "cell_type": "code",
      "execution_count": 66,
      "metadata": {
        "colab": {
          "base_uri": "https://localhost:8080/"
        },
        "id": "tZ5iuAeiJ6g6",
        "outputId": "851d7f7e-0ebf-426d-f4f3-474a9804a5f3"
      },
      "outputs": [
        {
          "output_type": "stream",
          "name": "stdout",
          "text": [
            "Epoch 1/10\n",
            "209/209 [==============================] - 1s 2ms/step - loss: 0.8512 - accuracy: 0.6316 - precision_6: 0.3529 - recall_6: 0.0833\n",
            "Epoch 2/10\n",
            "209/209 [==============================] - 0s 2ms/step - loss: 0.6750 - accuracy: 0.6555 - precision_6: 0.0000e+00 - recall_6: 0.0000e+00\n",
            "Epoch 3/10\n",
            "209/209 [==============================] - 0s 2ms/step - loss: 0.6651 - accuracy: 0.6555 - precision_6: 0.0000e+00 - recall_6: 0.0000e+00\n",
            "Epoch 4/10\n",
            "209/209 [==============================] - 0s 2ms/step - loss: 0.6577 - accuracy: 0.6555 - precision_6: 0.0000e+00 - recall_6: 0.0000e+00\n",
            "Epoch 5/10\n",
            "209/209 [==============================] - 0s 2ms/step - loss: 0.6524 - accuracy: 0.6555 - precision_6: 0.0000e+00 - recall_6: 0.0000e+00\n",
            "Epoch 6/10\n",
            "209/209 [==============================] - 0s 2ms/step - loss: 0.6491 - accuracy: 0.6555 - precision_6: 0.0000e+00 - recall_6: 0.0000e+00\n",
            "Epoch 7/10\n",
            "209/209 [==============================] - 0s 2ms/step - loss: 0.6468 - accuracy: 0.6555 - precision_6: 0.0000e+00 - recall_6: 0.0000e+00\n",
            "Epoch 8/10\n",
            "209/209 [==============================] - 0s 2ms/step - loss: 0.6461 - accuracy: 0.6555 - precision_6: 0.0000e+00 - recall_6: 0.0000e+00\n",
            "Epoch 9/10\n",
            "209/209 [==============================] - 0s 2ms/step - loss: 0.6454 - accuracy: 0.6555 - precision_6: 0.0000e+00 - recall_6: 0.0000e+00\n",
            "Epoch 10/10\n",
            "209/209 [==============================] - 0s 2ms/step - loss: 0.6446 - accuracy: 0.6555 - precision_6: 0.0000e+00 - recall_6: 0.0000e+00\n"
          ]
        },
        {
          "output_type": "execute_result",
          "data": {
            "text/plain": [
              "<keras.callbacks.History at 0x7f4e388a3650>"
            ]
          },
          "metadata": {},
          "execution_count": 66
        }
      ],
      "source": [
        "model = Sequential() # Initialising the ANN\n",
        "\n",
        "# build your model and compile here:\n",
        "model.add(Flatten(input_shape=X_train[0].shape))\n",
        "model.add(Dense(4, activation='relu'))\n",
        "model.add(Dense(10, activation='relu'))\n",
        "model.add(Dense(1, activation='sigmoid'))\n",
        "model.compile(optimizer='rmsprop', loss='binary_crossentropy', \n",
        "              metrics=['accuracy', Precision(), Recall()])\n",
        "model.fit(X_train, y_train, batch_size=1, epochs=10)"
      ]
    },
    {
      "cell_type": "markdown",
      "metadata": {
        "id": "xH0ByuYdKHkj"
      },
      "source": [
        "With so many nodes I would have expected lower loss at the cost of lower accuracy, eg overfitting. That doesn't seem to be the case, this model is basically worse all across the board. "
      ]
    },
    {
      "cell_type": "code",
      "execution_count": 67,
      "metadata": {
        "colab": {
          "base_uri": "https://localhost:8080/"
        },
        "id": "lXDu6naJKT_c",
        "outputId": "1c4e7a6f-f95c-4497-f9d8-4594569fd047"
      },
      "outputs": [
        {
          "output_type": "stream",
          "name": "stdout",
          "text": [
            "Epoch 1/10\n",
            "209/209 [==============================] - 1s 3ms/step - loss: 2.0110 - accuracy: 0.5072 - precision_7: 0.2754 - recall_7: 0.2639\n",
            "Epoch 2/10\n",
            "209/209 [==============================] - 1s 3ms/step - loss: 1.0249 - accuracy: 0.5885 - precision_7: 0.3750 - recall_7: 0.2917\n",
            "Epoch 3/10\n",
            "209/209 [==============================] - 1s 3ms/step - loss: 0.6729 - accuracy: 0.6699 - precision_7: 0.6667 - recall_7: 0.0833\n",
            "Epoch 4/10\n",
            "209/209 [==============================] - 1s 3ms/step - loss: 0.6865 - accuracy: 0.6603 - precision_7: 0.6000 - recall_7: 0.0417\n",
            "Epoch 5/10\n",
            "209/209 [==============================] - 1s 3ms/step - loss: 0.6158 - accuracy: 0.6555 - precision_7: 0.0000e+00 - recall_7: 0.0000e+00\n",
            "Epoch 6/10\n",
            "209/209 [==============================] - 1s 3ms/step - loss: 0.6727 - accuracy: 0.6555 - precision_7: 0.0000e+00 - recall_7: 0.0000e+00\n",
            "Epoch 7/10\n",
            "209/209 [==============================] - 1s 3ms/step - loss: 0.5924 - accuracy: 0.6555 - precision_7: 0.5000 - recall_7: 0.3889\n",
            "Epoch 8/10\n",
            "209/209 [==============================] - 1s 3ms/step - loss: 0.5895 - accuracy: 0.7081 - precision_7: 0.5873 - recall_7: 0.5139\n",
            "Epoch 9/10\n",
            "209/209 [==============================] - 1s 3ms/step - loss: 0.5789 - accuracy: 0.7321 - precision_7: 0.6212 - recall_7: 0.5694\n",
            "Epoch 10/10\n",
            "209/209 [==============================] - 1s 3ms/step - loss: 0.6010 - accuracy: 0.6842 - precision_7: 0.5375 - recall_7: 0.5972\n"
          ]
        },
        {
          "output_type": "execute_result",
          "data": {
            "text/plain": [
              "<keras.callbacks.History at 0x7f4e3865c890>"
            ]
          },
          "metadata": {},
          "execution_count": 67
        }
      ],
      "source": [
        "model = Sequential() # Initialising the ANN\n",
        "\n",
        "# build your model and compile here:\n",
        "model.add(Flatten(input_shape=X_train[0].shape))\n",
        "model.add(Dense(10, activation='relu'))\n",
        "model.add(Dense(1, activation='sigmoid'))\n",
        "model.compile(optimizer='rmsprop', loss='binary_crossentropy', \n",
        "              metrics=['accuracy', Precision(), Recall()])\n",
        "model.fit(X_train, y_train, batch_size=1, epochs=10)"
      ]
    },
    {
      "cell_type": "code",
      "execution_count": 95,
      "metadata": {
        "id": "dVYjQT00stLx",
        "colab": {
          "base_uri": "https://localhost:8080/"
        },
        "outputId": "af87a543-02a4-44ae-eb94-2f2242f5fd72"
      },
      "outputs": [
        {
          "output_type": "stream",
          "name": "stdout",
          "text": [
            "Epoch 1/10\n",
            "209/209 [==============================] - 2s 3ms/step - loss: 0.7670 - accuracy: 0.5789 - precision_15: 0.3261 - recall_15: 0.2083\n",
            "Epoch 2/10\n",
            "209/209 [==============================] - 1s 4ms/step - loss: 0.5237 - accuracy: 0.7464 - precision_15: 0.7021 - recall_15: 0.4583\n",
            "Epoch 3/10\n",
            "209/209 [==============================] - 1s 3ms/step - loss: 0.4049 - accuracy: 0.8373 - precision_15: 0.8065 - recall_15: 0.6944\n",
            "Epoch 4/10\n",
            "209/209 [==============================] - 1s 3ms/step - loss: 0.3296 - accuracy: 0.8804 - precision_15: 0.8507 - recall_15: 0.7917\n",
            "Epoch 5/10\n",
            "209/209 [==============================] - 1s 3ms/step - loss: 0.2539 - accuracy: 0.9234 - precision_15: 0.9242 - recall_15: 0.8472\n",
            "Epoch 6/10\n",
            "209/209 [==============================] - 1s 6ms/step - loss: 0.2182 - accuracy: 0.9282 - precision_15: 0.9014 - recall_15: 0.8889\n",
            "Epoch 7/10\n",
            "209/209 [==============================] - 1s 6ms/step - loss: 0.1818 - accuracy: 0.9617 - precision_15: 0.9571 - recall_15: 0.9306\n",
            "Epoch 8/10\n",
            "209/209 [==============================] - 1s 4ms/step - loss: 0.1194 - accuracy: 0.9665 - precision_15: 0.9452 - recall_15: 0.9583\n",
            "Epoch 9/10\n",
            "209/209 [==============================] - 1s 3ms/step - loss: 0.1163 - accuracy: 0.9713 - precision_15: 0.9583 - recall_15: 0.9583\n",
            "Epoch 10/10\n",
            "209/209 [==============================] - 1s 3ms/step - loss: 0.0825 - accuracy: 0.9713 - precision_15: 0.9714 - recall_15: 0.9444\n"
          ]
        }
      ],
      "source": [
        "# What happens when you add convolutional layers? What happens to our training loss?\n",
        "# Let's initialize our model\n",
        "from keras.layers import Conv2D, Flatten\n",
        "model = Sequential() # Initialising the ANN\n",
        "# build your convulusional layers here:\n",
        "model.add(Conv2D(2, 3))\n",
        "# make sure you flatten after you convulusional layers here:\n",
        "model.add(Flatten())\n",
        "\n",
        "# Feel free to add hidden layers here: \n",
        "# Hint reduce to a 1d vector as you have in the previous exercises.\n",
        "model.add(Dense(1, activation='sigmoid'))\n",
        "\n",
        "# compile your model here:\n",
        "model.compile(optimizer='rmsprop', loss='binary_crossentropy', \n",
        "              metrics=['accuracy', Precision(), Recall()])\n",
        "model.fit(X_train, y_train, batch_size=1, epochs=10)\n",
        "model_conv23 = model"
      ]
    },
    {
      "cell_type": "markdown",
      "source": [
        "Adding a convolutional layer greatly improved our models performance metrics across the board. Our loss decreases; accuracy, precision, and recall are all much higher - over 90%. \n",
        "This is without hidden layers also, as we just wanted to see the effect of the convolution. Perhaps if more filters are added, the model will improve."
      ],
      "metadata": {
        "id": "tMV4nCCIQSC1"
      }
    },
    {
      "cell_type": "code",
      "source": [
        "model = Sequential() \n",
        "model.add(Conv2D(4, 3))\n",
        "model.add(Flatten())\n",
        "model.add(Dense(1, activation='sigmoid'))\n",
        "model.compile(optimizer='rmsprop', loss='binary_crossentropy', \n",
        "              metrics=['accuracy', Precision(), Recall()])\n",
        "model.fit(X_train, y_train, batch_size=1, epochs=10)\n",
        "model_conv43 = model # save for later"
      ],
      "metadata": {
        "colab": {
          "base_uri": "https://localhost:8080/"
        },
        "id": "yMZ0Ui5KQr3f",
        "outputId": "ae61cb1d-c156-40fd-d721-70f0053cdf6d"
      },
      "execution_count": 74,
      "outputs": [
        {
          "output_type": "stream",
          "name": "stdout",
          "text": [
            "Epoch 1/10\n",
            "209/209 [==============================] - 4s 6ms/step - loss: 0.9135 - accuracy: 0.6029 - precision_13: 0.4127 - recall_13: 0.3611\n",
            "Epoch 2/10\n",
            "209/209 [==============================] - 2s 8ms/step - loss: 0.4886 - accuracy: 0.7943 - precision_13: 0.7101 - recall_13: 0.6806\n",
            "Epoch 3/10\n",
            "209/209 [==============================] - 2s 8ms/step - loss: 0.3406 - accuracy: 0.8660 - precision_13: 0.8143 - recall_13: 0.7917\n",
            "Epoch 4/10\n",
            "209/209 [==============================] - 1s 5ms/step - loss: 0.2238 - accuracy: 0.9187 - precision_13: 0.9104 - recall_13: 0.8472\n",
            "Epoch 5/10\n",
            "209/209 [==============================] - 1s 4ms/step - loss: 0.1468 - accuracy: 0.9617 - precision_13: 0.9706 - recall_13: 0.9167\n",
            "Epoch 6/10\n",
            "209/209 [==============================] - 1s 4ms/step - loss: 0.0903 - accuracy: 0.9809 - precision_13: 0.9722 - recall_13: 0.9722\n",
            "Epoch 7/10\n",
            "209/209 [==============================] - 1s 4ms/step - loss: 0.0707 - accuracy: 0.9809 - precision_13: 0.9595 - recall_13: 0.9861\n",
            "Epoch 8/10\n",
            "209/209 [==============================] - 1s 4ms/step - loss: 0.0424 - accuracy: 0.9904 - precision_13: 0.9730 - recall_13: 1.0000\n",
            "Epoch 9/10\n",
            "209/209 [==============================] - 1s 4ms/step - loss: 0.0185 - accuracy: 1.0000 - precision_13: 1.0000 - recall_13: 1.0000\n",
            "Epoch 10/10\n",
            "209/209 [==============================] - 1s 4ms/step - loss: 0.0089 - accuracy: 1.0000 - precision_13: 1.0000 - recall_13: 1.0000\n"
          ]
        }
      ]
    },
    {
      "cell_type": "markdown",
      "source": [
        "This model is exactly the same except for an increase in the number of filters. We see that the loss has decreased further and accuracy, precision, and recall have improved further. Now, we will change the kernel size to see the effect of the convolution grid size."
      ],
      "metadata": {
        "id": "9Re-x9VuRDgX"
      }
    },
    {
      "cell_type": "code",
      "source": [
        "model = Sequential() \n",
        "model.add(Conv2D(2, 6))\n",
        "model.add(Flatten())\n",
        "model.add(Dense(1, activation='sigmoid'))\n",
        "model.compile(optimizer='rmsprop', loss='binary_crossentropy', \n",
        "              metrics=['accuracy', Precision(), Recall()])\n",
        "model.fit(X_train, y_train, batch_size=1, epochs=10)"
      ],
      "metadata": {
        "colab": {
          "base_uri": "https://localhost:8080/"
        },
        "id": "9_PG43RwQ__A",
        "outputId": "c4cca8a3-c990-46ff-ba91-cdfc013c13c7"
      },
      "execution_count": 72,
      "outputs": [
        {
          "output_type": "stream",
          "name": "stdout",
          "text": [
            "Epoch 1/10\n",
            "209/209 [==============================] - 4s 10ms/step - loss: 0.7533 - accuracy: 0.5550 - precision_11: 0.3220 - recall_11: 0.2639\n",
            "Epoch 2/10\n",
            "209/209 [==============================] - 2s 8ms/step - loss: 0.5382 - accuracy: 0.7751 - precision_11: 0.7193 - recall_11: 0.5694\n",
            "Epoch 3/10\n",
            "209/209 [==============================] - 1s 7ms/step - loss: 0.4005 - accuracy: 0.8469 - precision_11: 0.8030 - recall_11: 0.7361\n",
            "Epoch 4/10\n",
            "209/209 [==============================] - 1s 6ms/step - loss: 0.3180 - accuracy: 0.8947 - precision_11: 0.8906 - recall_11: 0.7917\n",
            "Epoch 5/10\n",
            "209/209 [==============================] - 1s 6ms/step - loss: 0.2250 - accuracy: 0.9234 - precision_11: 0.9118 - recall_11: 0.8611\n",
            "Epoch 6/10\n",
            "209/209 [==============================] - 1s 6ms/step - loss: 0.1869 - accuracy: 0.9378 - precision_11: 0.9275 - recall_11: 0.8889\n",
            "Epoch 7/10\n",
            "209/209 [==============================] - 2s 8ms/step - loss: 0.1204 - accuracy: 0.9713 - precision_11: 0.9714 - recall_11: 0.9444\n",
            "Epoch 8/10\n",
            "209/209 [==============================] - 1s 6ms/step - loss: 0.1141 - accuracy: 0.9713 - precision_11: 0.9459 - recall_11: 0.9722\n",
            "Epoch 9/10\n",
            "209/209 [==============================] - 2s 8ms/step - loss: 0.0705 - accuracy: 0.9713 - precision_11: 0.9459 - recall_11: 0.9722\n",
            "Epoch 10/10\n",
            "209/209 [==============================] - 2s 10ms/step - loss: 0.0464 - accuracy: 0.9904 - precision_11: 1.0000 - recall_11: 0.9722\n"
          ]
        },
        {
          "output_type": "execute_result",
          "data": {
            "text/plain": [
              "<keras.callbacks.History at 0x7f4e3433d310>"
            ]
          },
          "metadata": {},
          "execution_count": 72
        }
      ]
    },
    {
      "cell_type": "markdown",
      "source": [
        "This model is similar to the original but with a different size for the convolution matrix. This has improved the model slightly. Our best model so far was with the 4 filter convolution, so we will combine that with the previously successful hidden layers to see the results."
      ],
      "metadata": {
        "id": "KOFIkgCJRzRo"
      }
    },
    {
      "cell_type": "code",
      "source": [
        "model = Sequential() \n",
        "model.add(Conv2D(4, 3))\n",
        "model.add(Flatten())\n",
        "model.add(Dense(6, activation='relu'))\n",
        "model.add(Dense(1, activation='sigmoid'))\n",
        "model.compile(optimizer='rmsprop', loss='binary_crossentropy', \n",
        "              metrics=['accuracy', Precision(), Recall()])\n",
        "model.fit(X_train, y_train, batch_size=1, epochs=10)\n",
        "model_conv43_hidden = model"
      ],
      "metadata": {
        "colab": {
          "base_uri": "https://localhost:8080/"
        },
        "id": "JW7QZUtmT2BA",
        "outputId": "a4f83f67-1f71-4072-8833-1c3aba48717f"
      },
      "execution_count": 92,
      "outputs": [
        {
          "output_type": "stream",
          "name": "stdout",
          "text": [
            "Epoch 1/10\n",
            "209/209 [==============================] - 3s 4ms/step - loss: 0.7826 - accuracy: 0.5981 - precision_14: 0.3889 - recall_14: 0.2917\n",
            "Epoch 2/10\n",
            "209/209 [==============================] - 1s 5ms/step - loss: 0.6346 - accuracy: 0.5837 - precision_14: 0.2727 - recall_14: 0.1250\n",
            "Epoch 3/10\n",
            "209/209 [==============================] - 2s 8ms/step - loss: 0.6493 - accuracy: 0.6603 - precision_14: 0.5128 - recall_14: 0.2778\n",
            "Epoch 4/10\n",
            "209/209 [==============================] - 1s 7ms/step - loss: 0.5837 - accuracy: 0.6316 - precision_14: 0.4786 - recall_14: 0.7778\n",
            "Epoch 5/10\n",
            "209/209 [==============================] - 1s 6ms/step - loss: 0.5786 - accuracy: 0.6220 - precision_14: 0.4690 - recall_14: 0.7361\n",
            "Epoch 6/10\n",
            "209/209 [==============================] - 1s 7ms/step - loss: 0.5424 - accuracy: 0.6603 - precision_14: 0.5043 - recall_14: 0.8194\n",
            "Epoch 7/10\n",
            "209/209 [==============================] - 1s 5ms/step - loss: 0.5937 - accuracy: 0.6794 - precision_14: 0.5225 - recall_14: 0.8056\n",
            "Epoch 8/10\n",
            "209/209 [==============================] - 1s 4ms/step - loss: 0.4883 - accuracy: 0.7129 - precision_14: 0.5577 - recall_14: 0.8056\n",
            "Epoch 9/10\n",
            "209/209 [==============================] - 1s 5ms/step - loss: 0.4967 - accuracy: 0.7656 - precision_14: 0.6353 - recall_14: 0.7500\n",
            "Epoch 10/10\n",
            "209/209 [==============================] - 1s 5ms/step - loss: 0.3859 - accuracy: 0.8086 - precision_14: 0.7222 - recall_14: 0.7222\n"
          ]
        }
      ]
    },
    {
      "cell_type": "markdown",
      "source": [
        "For some reason, this decreased model performance metrics. We're not exactly sure why, it could be something like the vanishing gradient problem. Regardless, the 4 filter, 3x3 convolution matrix with no hidden layers is the best model so far, that is what we will continue with."
      ],
      "metadata": {
        "id": "dP-k2MlmUHlo"
      }
    },
    {
      "cell_type": "code",
      "source": [
        "model = model_conv43"
      ],
      "metadata": {
        "id": "8Y3Tqy6gVD8v"
      },
      "execution_count": 75,
      "outputs": []
    },
    {
      "cell_type": "markdown",
      "metadata": {
        "id": "Lmp8LC30Ynak"
      },
      "source": [
        "### 3.2) Calculate your accuracy (10 points) "
      ]
    },
    {
      "cell_type": "code",
      "execution_count": 98,
      "metadata": {
        "id": "G7xQi21-Ynak",
        "colab": {
          "base_uri": "https://localhost:8080/"
        },
        "outputId": "dd438ba5-cb51-4fc9-999a-4ee8f1f15322"
      },
      "outputs": [
        {
          "output_type": "stream",
          "name": "stdout",
          "text": [
            "2/2 [==============================] - 0s 63ms/step\n",
            "              precision    recall  f1-score   support\n",
            "\n",
            "           0       0.62      0.76      0.68        17\n",
            "           1       0.86      0.76      0.81        33\n",
            "\n",
            "    accuracy                           0.76        50\n",
            "   macro avg       0.74      0.76      0.75        50\n",
            "weighted avg       0.78      0.76      0.76        50\n",
            "\n"
          ]
        }
      ],
      "source": [
        "# Hint! Use the predict function and threshold your results. 0.5 is reasonable.\n",
        "# In your classification report since we are only predicting cats you will need to set the parameter labels\n",
        "# labels=np.unique(yhat_test)\n",
        "y_test_pred = model_conv23.predict(X_test)\n",
        "y_test_pred_bin = [[0] if a < 0.5 else [1] for a in y_test_pred]\n",
        "print(classification_report(y_test, y_test_pred_bin))"
      ]
    },
    {
      "cell_type": "markdown",
      "source": [
        "It appears that the 4 filter 3x3 convolutional layer was overfitted, so we have returned to the 2 filter 3x3 model."
      ],
      "metadata": {
        "id": "VbMHEcA_Waga"
      }
    },
    {
      "cell_type": "markdown",
      "metadata": {
        "id": "vf_Khwq1Ynak"
      },
      "source": [
        "### 3.3) Calculate your precision and recall manually (10 points) "
      ]
    },
    {
      "cell_type": "code",
      "execution_count": 118,
      "metadata": {
        "id": "g8BpIv03Ynal",
        "colab": {
          "base_uri": "https://localhost:8080/"
        },
        "outputId": "e368b5f4-2ed8-4906-c315-9610442df649"
      },
      "outputs": [
        {
          "output_type": "stream",
          "name": "stdout",
          "text": [
            "Recall: 0.7576\n"
          ]
        }
      ],
      "source": [
        "# Recall calculation\n",
        "test = pd.DataFrame()\n",
        "test['y_test'] = y_test.flatten()\n",
        "test['y_test_pred'] = np.asarray(y_test_pred_bin).flatten()\n",
        "test['correct'] = test.apply(lambda x: xnor(x.y_test_pred, x.y_test), axis=1)\n",
        "# Recall = true positives / (true pos + false neg)\n",
        "test['true_positive'] = test.apply(lambda x: int(x.y_test and x.y_test_pred), axis=1)\n",
        "true_pos = test.true_positive.sum()\n",
        "real_pos = test.y_test.sum()\n",
        "recall = true_pos/real_pos\n",
        "print(f'Recall: {recall:.4f}')"
      ]
    },
    {
      "cell_type": "code",
      "execution_count": 119,
      "metadata": {
        "id": "BriMkolotghk",
        "colab": {
          "base_uri": "https://localhost:8080/"
        },
        "outputId": "63101cf5-8bd1-4ba7-e2e2-85dbafe161e4"
      },
      "outputs": [
        {
          "output_type": "stream",
          "name": "stdout",
          "text": [
            "Precision: 0.8621\n"
          ]
        }
      ],
      "source": [
        "# Precision calculation\n",
        "# Precision = true positives / (true + false positives)\n",
        "true_pos = test.true_positive.sum()\n",
        "all_pos = test.y_test_pred.sum() # true + false pos\n",
        "precision = true_pos / all_pos\n",
        "print(f'Precision: {precision:.4f}')"
      ]
    },
    {
      "cell_type": "markdown",
      "metadata": {
        "id": "n3E_cvZbkb_o"
      },
      "source": [
        "### Let's plot!!!"
      ]
    },
    {
      "cell_type": "code",
      "execution_count": 121,
      "metadata": {
        "id": "rq71-Hdnke1W",
        "colab": {
          "base_uri": "https://localhost:8080/",
          "height": 326
        },
        "outputId": "270ce9a0-b204-4b2a-988a-64e845f35c00"
      },
      "outputs": [
        {
          "output_type": "display_data",
          "data": {
            "text/plain": [
              "<Figure size 1152x576 with 3 Axes>"
            ],
            "image/png": "[encoded data removed]"
          },
          "metadata": {
            "needs_background": "light"
          }
        }
      ],
      "source": [
        "n = 3\n",
        "imgs = X_test\n",
        "fig, ax = plt.subplots(1, n, figsize=(16,8))\n",
        "for ix in range(n):\n",
        "    num = np.random.randint(imgs.shape[0])\n",
        "    ax[ix].imshow(imgs[num])\n",
        "    if y_test_pred[num] == 0: # changed to fit my var name\n",
        "        ax[ix].set_title('This is clearly not a cat')\n",
        "    else:\n",
        "        ax[ix].set_title('Yup! it\\'s a cat')"
      ]
    },
    {
      "cell_type": "markdown",
      "metadata": {
        "id": "bC4SnF_7Ynal"
      },
      "source": [
        "## Round up!"
      ]
    },
    {
      "cell_type": "markdown",
      "metadata": {
        "id": "Ba-yJKQIYnal"
      },
      "source": [
        "I hope you all had fun, writing your own ANN. In my opinon, writing these things from the ground up is the best way to learn how it actually works. I hope that you see that these systems are not magical, but simple matrix multiplications, unfortunately just a very lot of them. The most difficult part is of course the back propagation, where we need to calculate the gradients. Our simple ANNs are quite doable, but adding more different layers to them, can make it a bit more cumbersome. Still the essence is very similar to what we have done today.\n",
        "\n",
        "My suggestion is to play around with these structures, rewrite parts of them, or even better, write your own from scratch!\n"
      ]
    },
    {
      "cell_type": "markdown",
      "metadata": {
        "id": "NJkBdpHDYnal"
      },
      "source": [
        "Please let me know if you have any comments!"
      ]
    },
    {
      "cell_type": "code",
      "execution_count": null,
      "metadata": {
        "id": "oo5nI67mYnal"
      },
      "outputs": [],
      "source": []
    },
    {
      "cell_type": "markdown",
      "metadata": {
        "id": "xUZ99lNyYnal"
      },
      "source": [
        "## Apendix"
      ]
    },
    {
      "cell_type": "markdown",
      "metadata": {
        "id": "Pc0AoxY_Ynal"
      },
      "source": [
        "### Generating Rose Data"
      ]
    },
    {
      "cell_type": "code",
      "execution_count": 122,
      "metadata": {
        "id": "vNcaQgjQYnal"
      },
      "outputs": [],
      "source": [
        "def generateRoseData():\n",
        "    k=7\n",
        "    pointPerPetal = 100\n",
        "    cutOff = 0.1\n",
        "    r = 4\n",
        "\n",
        "    theta = np.linspace(0,np.pi, pointPerPetal * k)\n",
        "    xx = r * np.cos(k * theta) * np.cos(theta)\n",
        "    yy = r * np.cos(k * theta) * np.sin(theta)\n",
        "    cc = [np.ones(pointPerPetal) if ix % 3 == 0 else np.zeros(pointPerPetal) for ix in np.arange(k)]\n",
        "    cc = np.roll(np.hstack(cc).astype(np.uint8), -pointPerPetal//2)\n",
        "    x = xx[(xx**2 + yy**2)**0.5 > cutOff]\n",
        "    y = yy[(xx**2 + yy**2)**0.5 > cutOff]\n",
        "    col = cc[(xx**2 + yy**2)**0.5 > cutOff]\n",
        "    X = np.vstack([x,y])\n",
        "    Y = np.copy(col).reshape([1, -1])\n",
        "    return X, Y\n",
        "X, Y = generateRoseData()\n",
        "np.savez_compressed('./data/rose/rose.npz', X=X, Y=Y)"
      ]
    },
    {
      "cell_type": "code",
      "execution_count": null,
      "metadata": {
        "id": "Rq4YAjRgYnam"
      },
      "outputs": [],
      "source": []
    },
    {
      "cell_type": "markdown",
      "metadata": {
        "id": "cBlwWwKQYnam"
      },
      "source": [
        "### Processing Andrews CatvNotCat data"
      ]
    },
    {
      "cell_type": "code",
      "execution_count": 123,
      "metadata": {
        "id": "2lkHWbzVYnam"
      },
      "outputs": [],
      "source": [
        "# If you get an error here, install h5py via pip3 install h5py\n",
        "import h5py"
      ]
    },
    {
      "cell_type": "code",
      "execution_count": 124,
      "metadata": {
        "id": "HUyH9EvUYnam"
      },
      "outputs": [],
      "source": [
        "# Data downloaded from:\n",
        "# https://github.com/ridhimagarg/Cat-vs-Non-cat-Deep-learning-implementation\n",
        "def processCatData():\n",
        "    train_dataset = h5py.File(\"./data/cats/train_catvnoncat.h5\", mode='r')\n",
        "    Xtrain = np.array(train_dataset[\"train_set_x\"])\n",
        "    Y_train = np.array(train_dataset[\"train_set_y\"])\n",
        "    test_dataset = h5py.File(\"./data/cats/test_catvnoncat.h5\", mode='r')\n",
        "    Xtest = np.array(test_dataset[\"test_set_x\"])\n",
        "    Y_test = np.array(test_dataset[\"test_set_y\"])\n",
        "    X_train = Xtrain / 255\n",
        "    X_test = Xtest / 255\n",
        "    X_train = X_train.reshape(209, -1).T\n",
        "    Y_train = Y_train.reshape(-1, 209)\n",
        "    X_test = X_test.reshape(50, -1).T\n",
        "    Y_test = Y_test.reshape(-1, 50)\n",
        "    return X_train, X_test, Y_train, Y_test\n",
        "Xtrain, Xtest, Ytrain, Ytest = processCatData()\n",
        "np.savez_compressed('./data/cats/cats.npz', Xtrain=Xtrain, Xtest=Xtest, Ytrain=Ytrain, Ytest=Ytest)"
      ]
    },
    {
      "cell_type": "code",
      "execution_count": null,
      "metadata": {
        "id": "SkplsgolYnam"
      },
      "outputs": [],
      "source": []
    },
    {
      "cell_type": "markdown",
      "metadata": {
        "id": "iy2XhQSoYnan"
      },
      "source": [
        "# Credits\n",
        "#### Edwin Solares - Conversion to google colab, conversion to Keras and preprocessing data to work with Kears\n",
        "#### Dennis Bakhuis - May the Fourth (be with you) 2020\n",
        "https://linkedin.com/in/dennisbakhuis/ \\\n",
        "https://github.com/dennisbakhuis\n"
      ]
    },
    {
      "cell_type": "markdown",
      "metadata": {
        "id": "z0ja7ns_Ynan"
      },
      "source": [
        "## Exercise 4 - Collaborative Statement (5 points) \n",
        "### You must fill this out even if you worked alone to get credit.\n",
        "\n",
        "It is mandatory to include a Statement of Collaboration in each submission, that follows the guidelines below.\n",
        "Include the names of everyone involved in the discussions (especially in-person ones), and what was discussed.\n",
        "All students are required to follow the academic honesty guidelines posted on the course website. For\n",
        "programming assignments in particular, I encourage students to organize (perhaps using Piazza) to discuss the\n",
        "task descriptions, requirements, possible bugs in the support code, and the relevant technical content before they\n",
        "start working on it. However, you should not discuss the specific solutions, and as a guiding principle, you are\n",
        "not allowed to take anything written or drawn away from these discussions (no photographs of the blackboard,\n",
        "written notes, referring to Piazza, etc.). Especially after you have started working on the assignment, try to restrict\n",
        "the discussion to Piazza as much as possible, so that there is no doubt as to the extent of your collaboration."
      ]
    },
    {
      "cell_type": "markdown",
      "metadata": {
        "id": "OT4FdyEALDnH"
      },
      "source": [
        "I did not collaborate with anyone, outside of reading posts on Piazza and reading through keras docs and stack overflow posts for errors. For the document I used we/us pronouns just because that's what I'm used to for these types of papers, but it's just me."
      ]
    }
  ],
  "metadata": {
    "colab": {
      "provenance": []
    },
    "kernelspec": {
      "display_name": "Python 3 (ipykernel)",
      "language": "python",
      "name": "python3"
    },
    "language_info": {
      "codemirror_mode": {
        "name": "ipython",
        "version": 3
      },
      "file_extension": ".py",
      "mimetype": "text/x-python",
      "name": "python",
      "nbconvert_exporter": "python",
      "pygments_lexer": "ipython3",
      "version": "3.8.10"
    }
  },
  "nbformat": 4,
  "nbformat_minor": 0
}